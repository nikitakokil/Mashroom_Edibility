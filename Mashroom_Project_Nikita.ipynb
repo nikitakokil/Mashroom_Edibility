{
 "cells": [
  {
   "cell_type": "markdown",
   "id": "b093c149",
   "metadata": {},
   "source": [
    "# Machine Learning Model to Safeguard Foragers by Distinguishing Poisonous from Edible Mushrooms"
   ]
  },
  {
   "cell_type": "code",
   "execution_count": 1,
   "id": "4bf13160",
   "metadata": {},
   "outputs": [],
   "source": [
    "import numpy as np\n",
    "import pandas as pd\n",
    "import matplotlib.pyplot as plt\n",
    "import seaborn as sns\n",
    "\n",
    "import warnings\n",
    "warnings.filterwarnings('ignore')"
   ]
  },
  {
   "cell_type": "code",
   "execution_count": 2,
   "id": "39982661",
   "metadata": {},
   "outputs": [],
   "source": [
    "data_1=pd.read_csv('Data.csv')\n",
    "data_2=pd.read_csv('Data 2.csv')"
   ]
  },
  {
   "cell_type": "markdown",
   "id": "4fac5fb0",
   "metadata": {},
   "source": [
    "# 1. Exploratory Data Analysis  of data_1"
   ]
  },
  {
   "cell_type": "code",
   "execution_count": 3,
   "id": "de009ed0",
   "metadata": {
    "scrolled": true
   },
   "outputs": [
    {
     "data": {
      "text/html": [
       "<div>\n",
       "<style scoped>\n",
       "    .dataframe tbody tr th:only-of-type {\n",
       "        vertical-align: middle;\n",
       "    }\n",
       "\n",
       "    .dataframe tbody tr th {\n",
       "        vertical-align: top;\n",
       "    }\n",
       "\n",
       "    .dataframe thead th {\n",
       "        text-align: right;\n",
       "    }\n",
       "</style>\n",
       "<table border=\"1\" class=\"dataframe\">\n",
       "  <thead>\n",
       "    <tr style=\"text-align: right;\">\n",
       "      <th></th>\n",
       "      <th>class</th>\n",
       "      <th>cap-diameter</th>\n",
       "      <th>cap-shape</th>\n",
       "      <th>cap-surface</th>\n",
       "      <th>cap-color</th>\n",
       "      <th>does-bruise-or-bleed</th>\n",
       "      <th>gill-attachment</th>\n",
       "      <th>gill-spacing</th>\n",
       "      <th>gill-color</th>\n",
       "      <th>stem-height</th>\n",
       "      <th>...</th>\n",
       "      <th>stem-root</th>\n",
       "      <th>stem-surface</th>\n",
       "      <th>stem-color</th>\n",
       "      <th>veil-type</th>\n",
       "      <th>veil-color</th>\n",
       "      <th>has-ring</th>\n",
       "      <th>ring-type</th>\n",
       "      <th>spore-print-color</th>\n",
       "      <th>habitat</th>\n",
       "      <th>season</th>\n",
       "    </tr>\n",
       "  </thead>\n",
       "  <tbody>\n",
       "    <tr>\n",
       "      <th>0</th>\n",
       "      <td>p</td>\n",
       "      <td>15.26</td>\n",
       "      <td>x</td>\n",
       "      <td>g</td>\n",
       "      <td>o</td>\n",
       "      <td>f</td>\n",
       "      <td>e</td>\n",
       "      <td>NaN</td>\n",
       "      <td>w</td>\n",
       "      <td>16.95</td>\n",
       "      <td>...</td>\n",
       "      <td>s</td>\n",
       "      <td>y</td>\n",
       "      <td>w</td>\n",
       "      <td>u</td>\n",
       "      <td>w</td>\n",
       "      <td>t</td>\n",
       "      <td>g</td>\n",
       "      <td>NaN</td>\n",
       "      <td>d</td>\n",
       "      <td>w</td>\n",
       "    </tr>\n",
       "    <tr>\n",
       "      <th>1</th>\n",
       "      <td>p</td>\n",
       "      <td>16.60</td>\n",
       "      <td>x</td>\n",
       "      <td>g</td>\n",
       "      <td>o</td>\n",
       "      <td>f</td>\n",
       "      <td>e</td>\n",
       "      <td>NaN</td>\n",
       "      <td>w</td>\n",
       "      <td>17.99</td>\n",
       "      <td>...</td>\n",
       "      <td>s</td>\n",
       "      <td>y</td>\n",
       "      <td>w</td>\n",
       "      <td>u</td>\n",
       "      <td>w</td>\n",
       "      <td>t</td>\n",
       "      <td>g</td>\n",
       "      <td>NaN</td>\n",
       "      <td>d</td>\n",
       "      <td>u</td>\n",
       "    </tr>\n",
       "    <tr>\n",
       "      <th>2</th>\n",
       "      <td>p</td>\n",
       "      <td>14.07</td>\n",
       "      <td>x</td>\n",
       "      <td>g</td>\n",
       "      <td>o</td>\n",
       "      <td>f</td>\n",
       "      <td>e</td>\n",
       "      <td>NaN</td>\n",
       "      <td>w</td>\n",
       "      <td>17.80</td>\n",
       "      <td>...</td>\n",
       "      <td>s</td>\n",
       "      <td>y</td>\n",
       "      <td>w</td>\n",
       "      <td>u</td>\n",
       "      <td>w</td>\n",
       "      <td>t</td>\n",
       "      <td>g</td>\n",
       "      <td>NaN</td>\n",
       "      <td>d</td>\n",
       "      <td>w</td>\n",
       "    </tr>\n",
       "    <tr>\n",
       "      <th>3</th>\n",
       "      <td>p</td>\n",
       "      <td>14.17</td>\n",
       "      <td>f</td>\n",
       "      <td>h</td>\n",
       "      <td>e</td>\n",
       "      <td>f</td>\n",
       "      <td>e</td>\n",
       "      <td>NaN</td>\n",
       "      <td>w</td>\n",
       "      <td>15.77</td>\n",
       "      <td>...</td>\n",
       "      <td>s</td>\n",
       "      <td>y</td>\n",
       "      <td>w</td>\n",
       "      <td>u</td>\n",
       "      <td>w</td>\n",
       "      <td>t</td>\n",
       "      <td>p</td>\n",
       "      <td>NaN</td>\n",
       "      <td>d</td>\n",
       "      <td>w</td>\n",
       "    </tr>\n",
       "    <tr>\n",
       "      <th>4</th>\n",
       "      <td>p</td>\n",
       "      <td>14.64</td>\n",
       "      <td>x</td>\n",
       "      <td>h</td>\n",
       "      <td>o</td>\n",
       "      <td>f</td>\n",
       "      <td>e</td>\n",
       "      <td>NaN</td>\n",
       "      <td>w</td>\n",
       "      <td>16.53</td>\n",
       "      <td>...</td>\n",
       "      <td>s</td>\n",
       "      <td>y</td>\n",
       "      <td>w</td>\n",
       "      <td>u</td>\n",
       "      <td>w</td>\n",
       "      <td>t</td>\n",
       "      <td>p</td>\n",
       "      <td>NaN</td>\n",
       "      <td>d</td>\n",
       "      <td>w</td>\n",
       "    </tr>\n",
       "  </tbody>\n",
       "</table>\n",
       "<p>5 rows × 21 columns</p>\n",
       "</div>"
      ],
      "text/plain": [
       "  class  cap-diameter cap-shape cap-surface cap-color does-bruise-or-bleed  \\\n",
       "0     p         15.26         x           g         o                    f   \n",
       "1     p         16.60         x           g         o                    f   \n",
       "2     p         14.07         x           g         o                    f   \n",
       "3     p         14.17         f           h         e                    f   \n",
       "4     p         14.64         x           h         o                    f   \n",
       "\n",
       "  gill-attachment gill-spacing gill-color  stem-height  ...  stem-root  \\\n",
       "0               e          NaN          w        16.95  ...          s   \n",
       "1               e          NaN          w        17.99  ...          s   \n",
       "2               e          NaN          w        17.80  ...          s   \n",
       "3               e          NaN          w        15.77  ...          s   \n",
       "4               e          NaN          w        16.53  ...          s   \n",
       "\n",
       "  stem-surface stem-color veil-type veil-color has-ring ring-type  \\\n",
       "0            y          w         u          w        t         g   \n",
       "1            y          w         u          w        t         g   \n",
       "2            y          w         u          w        t         g   \n",
       "3            y          w         u          w        t         p   \n",
       "4            y          w         u          w        t         p   \n",
       "\n",
       "  spore-print-color habitat season  \n",
       "0               NaN       d      w  \n",
       "1               NaN       d      u  \n",
       "2               NaN       d      w  \n",
       "3               NaN       d      w  \n",
       "4               NaN       d      w  \n",
       "\n",
       "[5 rows x 21 columns]"
      ]
     },
     "execution_count": 3,
     "metadata": {},
     "output_type": "execute_result"
    }
   ],
   "source": [
    "data_1.head()"
   ]
  },
  {
   "cell_type": "code",
   "execution_count": 4,
   "id": "0eb99827",
   "metadata": {
    "scrolled": true
   },
   "outputs": [
    {
     "name": "stdout",
     "output_type": "stream",
     "text": [
      "<class 'pandas.core.frame.DataFrame'>\n",
      "RangeIndex: 61069 entries, 0 to 61068\n",
      "Data columns (total 21 columns):\n",
      " #   Column                Non-Null Count  Dtype  \n",
      "---  ------                --------------  -----  \n",
      " 0   class                 61069 non-null  object \n",
      " 1   cap-diameter          61069 non-null  float64\n",
      " 2   cap-shape             61069 non-null  object \n",
      " 3   cap-surface           46949 non-null  object \n",
      " 4   cap-color             61069 non-null  object \n",
      " 5   does-bruise-or-bleed  61069 non-null  object \n",
      " 6   gill-attachment       51185 non-null  object \n",
      " 7   gill-spacing          36006 non-null  object \n",
      " 8   gill-color            61069 non-null  object \n",
      " 9   stem-height           61069 non-null  float64\n",
      " 10  stem-width            61069 non-null  float64\n",
      " 11  stem-root             9531 non-null   object \n",
      " 12  stem-surface          22945 non-null  object \n",
      " 13  stem-color            61069 non-null  object \n",
      " 14  veil-type             3177 non-null   object \n",
      " 15  veil-color            7413 non-null   object \n",
      " 16  has-ring              61069 non-null  object \n",
      " 17  ring-type             58598 non-null  object \n",
      " 18  spore-print-color     6354 non-null   object \n",
      " 19  habitat               61069 non-null  object \n",
      " 20  season                61069 non-null  object \n",
      "dtypes: float64(3), object(18)\n",
      "memory usage: 9.8+ MB\n"
     ]
    }
   ],
   "source": [
    "data_1.info()"
   ]
  },
  {
   "cell_type": "code",
   "execution_count": 5,
   "id": "35c1569f",
   "metadata": {},
   "outputs": [
    {
     "data": {
      "text/plain": [
       "class                       0\n",
       "cap-diameter                0\n",
       "cap-shape                   0\n",
       "cap-surface             14120\n",
       "cap-color                   0\n",
       "does-bruise-or-bleed        0\n",
       "gill-attachment          9884\n",
       "gill-spacing            25063\n",
       "gill-color                  0\n",
       "stem-height                 0\n",
       "stem-width                  0\n",
       "stem-root               51538\n",
       "stem-surface            38124\n",
       "stem-color                  0\n",
       "veil-type               57892\n",
       "veil-color              53656\n",
       "has-ring                    0\n",
       "ring-type                2471\n",
       "spore-print-color       54715\n",
       "habitat                     0\n",
       "season                      0\n",
       "dtype: int64"
      ]
     },
     "execution_count": 5,
     "metadata": {},
     "output_type": "execute_result"
    }
   ],
   "source": [
    "data_1.isna().sum()"
   ]
  },
  {
   "cell_type": "code",
   "execution_count": 6,
   "id": "3c451909",
   "metadata": {},
   "outputs": [
    {
     "name": "stdout",
     "output_type": "stream",
     "text": [
      "Shape of the data:  (61069, 21)\n"
     ]
    }
   ],
   "source": [
    "print('Shape of the data: ',data_1.shape)\n"
   ]
  },
  {
   "cell_type": "code",
   "execution_count": 7,
   "id": "0cd0dacb",
   "metadata": {},
   "outputs": [
    {
     "data": {
      "text/plain": [
       "<seaborn.axisgrid.PairGrid at 0x1713a0c8970>"
      ]
     },
     "execution_count": 7,
     "metadata": {},
     "output_type": "execute_result"
    },
    {
     "data": {
      "image/png": "[encoded data removed]",
      "text/plain": [
       "<Figure size 540x540 with 12 Axes>"
      ]
     },
     "metadata": {
      "needs_background": "light"
     },
     "output_type": "display_data"
    }
   ],
   "source": [
    "sns.pairplot(data=data_1[['class','cap-diameter','stem-height','stem-width']])"
   ]
  },
  {
   "cell_type": "markdown",
   "id": "df228720",
   "metadata": {},
   "source": [
    "# 2. Preprocessing of data_1"
   ]
  },
  {
   "cell_type": "code",
   "execution_count": 8,
   "id": "9e03e363",
   "metadata": {},
   "outputs": [
    {
     "name": "stdout",
     "output_type": "stream",
     "text": [
      "<class 'pandas.core.frame.DataFrame'>\n",
      "RangeIndex: 61069 entries, 0 to 61068\n",
      "Data columns (total 21 columns):\n",
      " #   Column                Non-Null Count  Dtype  \n",
      "---  ------                --------------  -----  \n",
      " 0   class                 61069 non-null  object \n",
      " 1   cap-diameter          61069 non-null  float64\n",
      " 2   cap-shape             61069 non-null  object \n",
      " 3   cap-surface           46949 non-null  object \n",
      " 4   cap-color             61069 non-null  object \n",
      " 5   does-bruise-or-bleed  61069 non-null  object \n",
      " 6   gill-attachment       51185 non-null  object \n",
      " 7   gill-spacing          36006 non-null  object \n",
      " 8   gill-color            61069 non-null  object \n",
      " 9   stem-height           61069 non-null  float64\n",
      " 10  stem-width            61069 non-null  float64\n",
      " 11  stem-root             9531 non-null   object \n",
      " 12  stem-surface          22945 non-null  object \n",
      " 13  stem-color            61069 non-null  object \n",
      " 14  veil-type             3177 non-null   object \n",
      " 15  veil-color            7413 non-null   object \n",
      " 16  has-ring              61069 non-null  object \n",
      " 17  ring-type             58598 non-null  object \n",
      " 18  spore-print-color     6354 non-null   object \n",
      " 19  habitat               61069 non-null  object \n",
      " 20  season                61069 non-null  object \n",
      "dtypes: float64(3), object(18)\n",
      "memory usage: 9.8+ MB\n"
     ]
    }
   ],
   "source": [
    "data_1.info()"
   ]
  },
  {
   "cell_type": "code",
   "execution_count": 9,
   "id": "48d11ea3",
   "metadata": {},
   "outputs": [
    {
     "data": {
      "text/plain": [
       "class                       0\n",
       "cap-diameter                0\n",
       "cap-shape                   0\n",
       "cap-surface             14120\n",
       "cap-color                   0\n",
       "does-bruise-or-bleed        0\n",
       "gill-attachment          9884\n",
       "gill-spacing            25063\n",
       "gill-color                  0\n",
       "stem-height                 0\n",
       "stem-width                  0\n",
       "stem-root               51538\n",
       "stem-surface            38124\n",
       "stem-color                  0\n",
       "veil-type               57892\n",
       "veil-color              53656\n",
       "has-ring                    0\n",
       "ring-type                2471\n",
       "spore-print-color       54715\n",
       "habitat                     0\n",
       "season                      0\n",
       "dtype: int64"
      ]
     },
     "execution_count": 9,
     "metadata": {},
     "output_type": "execute_result"
    }
   ],
   "source": [
    "data_1.isna().sum()"
   ]
  },
  {
   "cell_type": "markdown",
   "id": "f9ec074b",
   "metadata": {},
   "source": [
    "## 2.1 Filling null values in cap-surface column"
   ]
  },
  {
   "cell_type": "code",
   "execution_count": 10,
   "id": "99535ca8",
   "metadata": {},
   "outputs": [
    {
     "data": {
      "text/plain": [
       "t    8196\n",
       "s    7608\n",
       "y    6341\n",
       "h    4974\n",
       "g    4724\n",
       "d    4432\n",
       "e    2584\n",
       "k    2303\n",
       "i    2225\n",
       "w    2150\n",
       "l    1412\n",
       "Name: cap-surface, dtype: int64"
      ]
     },
     "execution_count": 10,
     "metadata": {},
     "output_type": "execute_result"
    }
   ],
   "source": [
    "data_1['cap-surface'].value_counts()"
   ]
  },
  {
   "cell_type": "markdown",
   "id": "842bfd13",
   "metadata": {},
   "source": [
    "### The cap surface of poisonous mushrooms\n",
    "### 1.sticky-->t\n",
    "### 2.scaly-->y\n",
    "### 3.fibrous-->i\n",
    "\n",
    "### The cap surface of non-poisonous mushrooms\n",
    "### 1.smooth-->s\n",
    "### 2.fleshy-->e\n",
    "### 3.silky-->k"
   ]
  },
  {
   "cell_type": "code",
   "execution_count": 11,
   "id": "8f20f1dc",
   "metadata": {},
   "outputs": [],
   "source": [
    "# filling class poisionous(p) with sticky(t),scaly(y),fibrous(i) as it is the majority value in the column.\n",
    "val=['t','y','i']\n",
    "missing_indices = data_1[(data_1['class'] == 'p') & (data_1['cap-surface'].isna())].index\n",
    "data_1.loc[missing_indices, 'cap-surface'] = np.random.choice(val, size=len(missing_indices))"
   ]
  },
  {
   "cell_type": "code",
   "execution_count": 12,
   "id": "b0c50da4",
   "metadata": {},
   "outputs": [],
   "source": [
    "# filling class edible(e) with smooth(s) as it is the 2nd majority value in the column.\n",
    "val_1=['s','e','k']\n",
    "missing_indices_1 = data_1[(data_1['class'] == 'e') & (data_1['cap-surface'].isna())].index\n",
    "data_1.loc[missing_indices_1, 'cap-surface'] = np.random.choice(val_1, size=len(missing_indices_1))\n",
    "    "
   ]
  },
  {
   "cell_type": "markdown",
   "id": "a2462b47",
   "metadata": {},
   "source": [
    "## 2.2 Filling null values in gill-attachment column"
   ]
  },
  {
   "cell_type": "code",
   "execution_count": 13,
   "id": "2e730a2c",
   "metadata": {},
   "outputs": [
    {
     "data": {
      "text/plain": [
       "a    12698\n",
       "d    10247\n",
       "x     7413\n",
       "p     6001\n",
       "e     5648\n",
       "s     5648\n",
       "f     3530\n",
       "Name: gill-attachment, dtype: int64"
      ]
     },
     "execution_count": 13,
     "metadata": {},
     "output_type": "execute_result"
    }
   ],
   "source": [
    "data_1['gill-attachment'].value_counts()"
   ]
  },
  {
   "cell_type": "markdown",
   "id": "e6c58837",
   "metadata": {},
   "source": [
    "### since gill-attachment is not important in determining wheather the mushroomis poisonous or edible"
   ]
  },
  {
   "cell_type": "code",
   "execution_count": 14,
   "id": "c14dc374",
   "metadata": {},
   "outputs": [],
   "source": [
    "# randomly filling the values \n",
    "value=['a','d','x','p','e','s','f']\n",
    "fill_value=np.random.choice(len(value),size=data_1['gill-attachment'].isna().sum())\n",
    "data_1.loc[data_1['gill-attachment'].isna(),'gill-attachment']=[value[i] for i in fill_value]"
   ]
  },
  {
   "cell_type": "markdown",
   "id": "3c3c8911",
   "metadata": {},
   "source": [
    "## 2.3 Filling null values in gill-spacing column"
   ]
  },
  {
   "cell_type": "code",
   "execution_count": 15,
   "id": "14a5514c",
   "metadata": {},
   "outputs": [
    {
     "data": {
      "text/plain": [
       "c    24710\n",
       "d     7766\n",
       "f     3530\n",
       "Name: gill-spacing, dtype: int64"
      ]
     },
     "execution_count": 15,
     "metadata": {},
     "output_type": "execute_result"
    }
   ],
   "source": [
    "data_1['gill-spacing'].value_counts()"
   ]
  },
  {
   "cell_type": "markdown",
   "id": "438e75c3",
   "metadata": {},
   "source": [
    "### Gill spacing is one of the characteristics used in the identification of mushrooms, but it is not a definitive factor in determining whether a mushroom is poisonous or edible."
   ]
  },
  {
   "cell_type": "code",
   "execution_count": 16,
   "id": "0fc93314",
   "metadata": {},
   "outputs": [],
   "source": [
    "# Many edible mushrooms have close(c) gill-spacing\n",
    "cond_1=data_1['class']=='e'\n",
    "data_1.loc[cond_1,'gill-spacing']=data_1.loc[cond_1,'gill-spacing'].fillna(value='c')"
   ]
  },
  {
   "cell_type": "code",
   "execution_count": 17,
   "id": "19816b3b",
   "metadata": {},
   "outputs": [],
   "source": [
    "# Distant(d) gill-spacing is also found in both edible and poisonous mushrooms. so using distant(d) in rows containing \n",
    "# edible(e) in class column.\n",
    "cond_2=data_1['class']=='p'\n",
    "data_1.loc[cond_2,'gill-spacing']=data_1.loc[cond_2,'gill-spacing'].fillna(value='d')"
   ]
  },
  {
   "cell_type": "markdown",
   "id": "78892e52",
   "metadata": {},
   "source": [
    "## 2.4 Filling null values in stem root column"
   ]
  },
  {
   "cell_type": "code",
   "execution_count": 18,
   "id": "0aa6c240",
   "metadata": {},
   "outputs": [
    {
     "data": {
      "text/plain": [
       "s    3177\n",
       "b    3177\n",
       "r    1412\n",
       "f    1059\n",
       "c     706\n",
       "Name: stem-root, dtype: int64"
      ]
     },
     "execution_count": 18,
     "metadata": {},
     "output_type": "execute_result"
    }
   ],
   "source": [
    "data_1['stem-root'].value_counts()"
   ]
  },
  {
   "cell_type": "code",
   "execution_count": 19,
   "id": "f3ed7994",
   "metadata": {},
   "outputs": [],
   "source": [
    "#Determining the edibility or toxicity of a mushroom based solely on the type of stem root can be difficult so we have \n",
    "## randomely fill the data.\n",
    "value_1=['s','b','r','f','c','u','z']\n",
    "fill_value_1=np.random.choice(len(value_1),size=data_1['stem-root'].isna().sum())\n",
    "data_1.loc[data_1['stem-root'].isna(),'stem-root']=[value_1[i] for i in fill_value_1]"
   ]
  },
  {
   "cell_type": "markdown",
   "id": "1bae014e",
   "metadata": {},
   "source": [
    "## 2.5 Filling null values in stem-surface column"
   ]
  },
  {
   "cell_type": "code",
   "execution_count": 20,
   "id": "51ecbb4b",
   "metadata": {},
   "outputs": [
    {
     "data": {
      "text/plain": [
       "s    6025\n",
       "y    4940\n",
       "i    4396\n",
       "t    2644\n",
       "g    1765\n",
       "k    1581\n",
       "f    1059\n",
       "h     535\n",
       "Name: stem-surface, dtype: int64"
      ]
     },
     "execution_count": 20,
     "metadata": {},
     "output_type": "execute_result"
    }
   ],
   "source": [
    "data_1['stem-surface'].value_counts()"
   ]
  },
  {
   "cell_type": "markdown",
   "id": "4db3d05c",
   "metadata": {},
   "source": [
    "### Since stem-surface has 38124 null values and its difficult to determine its surface based on cap color or any other featurs it is better to drop the column."
   ]
  },
  {
   "cell_type": "code",
   "execution_count": 21,
   "id": "8e84a849",
   "metadata": {},
   "outputs": [],
   "source": [
    "data_1.drop('stem-surface', axis=1,inplace=True)"
   ]
  },
  {
   "cell_type": "markdown",
   "id": "01d885f6",
   "metadata": {},
   "source": [
    "## 2.6 Filling null values in veil-type column"
   ]
  },
  {
   "cell_type": "code",
   "execution_count": 22,
   "id": "d88dd9e1",
   "metadata": {},
   "outputs": [
    {
     "data": {
      "text/plain": [
       "u    3177\n",
       "Name: veil-type, dtype: int64"
      ]
     },
     "execution_count": 22,
     "metadata": {},
     "output_type": "execute_result"
    }
   ],
   "source": [
    "data_1['veil-type'].value_counts()"
   ]
  },
  {
   "cell_type": "code",
   "execution_count": 23,
   "id": "d158df55",
   "metadata": {},
   "outputs": [],
   "source": [
    "# since veil-type column has only one value it does not effet the moldel hence we can drop the column.\n",
    "data_1.drop('veil-type', axis=1,inplace=True)"
   ]
  },
  {
   "cell_type": "markdown",
   "id": "cf57d9b9",
   "metadata": {},
   "source": [
    "## 2.7 Filling null values in veil-color column"
   ]
  },
  {
   "cell_type": "code",
   "execution_count": 24,
   "id": "b86aafdb",
   "metadata": {},
   "outputs": [
    {
     "data": {
      "text/plain": [
       "w    5474\n",
       "y     527\n",
       "n     525\n",
       "u     353\n",
       "k     353\n",
       "e     181\n",
       "Name: veil-color, dtype: int64"
      ]
     },
     "execution_count": 24,
     "metadata": {},
     "output_type": "execute_result"
    }
   ],
   "source": [
    "data_1['veil-color'].value_counts()"
   ]
  },
  {
   "cell_type": "code",
   "execution_count": 25,
   "id": "0e51d53d",
   "metadata": {},
   "outputs": [],
   "source": [
    "#White or Light-Colored Caps:\n",
    "#Mushrooms with white or light-colored caps may have a veil that is also white or light in color. This is a common \n",
    "#association, but there are exceptions.\n",
    "\n",
    "#Cream or Yellowish Caps:\n",
    "#Similarly, mushrooms with cream or yellowish caps may have a veil that reflects those colors.\n",
    "#Brown or Dark-Colored Caps:\n",
    "\n",
    "#Some mushrooms with brown or dark-colored caps may have a veil that matches the cap color, while others may have a veil \n",
    "#that is lighter in color.\n",
    "\n",
    "#Red or Rust-Colored Caps:\n",
    "#For mushrooms with red or rust-colored caps, the veil color might vary. It can be in the same color spectrum or different.\n",
    "\n",
    "# so let us consider the corresponding cap color as veil color.\n",
    "\n",
    "n=data_1['cap-color']=='n'\n",
    "data_1.loc[n,'veil-color']=data_1.loc[n,'veil-color'].fillna(value='n')\n",
    "\n",
    "b=data_1['cap-color']=='b'\n",
    "data_1.loc[b,'veil-color']=data_1.loc[b,'veil-color'].fillna(value='b')\n",
    "\n",
    "g=data_1['cap-color']=='g'\n",
    "data_1.loc[g,'veil-color']=data_1.loc[g,'veil-color'].fillna(value='g')\n",
    "\n",
    "r=data_1['cap-color']=='r'\n",
    "data_1.loc[r,'veil-color']=data_1.loc[r,'veil-color'].fillna(value='r')\n",
    "\n",
    "p=data_1['cap-color']=='p'\n",
    "data_1.loc[p,'veil-color']=data_1.loc[p,'veil-color'].fillna(value='p')\n",
    "\n",
    "u=data_1['cap-color']=='u'\n",
    "data_1.loc[u,'veil-color']=data_1.loc[u,'veil-color'].fillna(value='u')\n",
    "\n",
    "e=data_1['cap-color']=='e'\n",
    "data_1.loc[e,'veil-color']=data_1.loc[e,'veil-color'].fillna(value='e')\n",
    "\n",
    "w=data_1['cap-color']=='w'\n",
    "data_1.loc[w,'veil-color']=data_1.loc[w,'veil-color'].fillna(value='w')\n",
    "\n",
    "y=data_1['cap-color']=='y'\n",
    "data_1.loc[y,'veil-color']=data_1.loc[y,'veil-color'].fillna(value='y')\n",
    "\n",
    "l=data_1['cap-color']=='l'\n",
    "data_1.loc[l,'veil-color']=data_1.loc[l,'veil-color'].fillna(value='l')\n",
    "\n",
    "o=data_1['cap-color']=='o'\n",
    "data_1.loc[o,'veil-color']=data_1.loc[o,'veil-color'].fillna(value='o')\n",
    "\n",
    "k=data_1['cap-color']=='k'\n",
    "data_1.loc[k,'veil-color']=data_1.loc[k,'veil-color'].fillna(value='k')"
   ]
  },
  {
   "cell_type": "markdown",
   "id": "f9733057",
   "metadata": {},
   "source": [
    "## 2.8 Filling null values in ring-type column"
   ]
  },
  {
   "cell_type": "code",
   "execution_count": 26,
   "id": "ef34ab44",
   "metadata": {},
   "outputs": [
    {
     "data": {
      "text/plain": [
       "f    48361\n",
       "e     2435\n",
       "z     2118\n",
       "l     1427\n",
       "r     1399\n",
       "p     1265\n",
       "g     1240\n",
       "m      353\n",
       "Name: ring-type, dtype: int64"
      ]
     },
     "execution_count": 26,
     "metadata": {},
     "output_type": "execute_result"
    }
   ],
   "source": [
    "data_1['ring-type'].value_counts()"
   ]
  },
  {
   "cell_type": "code",
   "execution_count": 27,
   "id": "f7eea069",
   "metadata": {},
   "outputs": [],
   "source": [
    "#since the majority value of ring-type is none(f) so we can fill the remaining as f.\n",
    "data_1['ring-type']=data_1['ring-type'].fillna(value='f')"
   ]
  },
  {
   "cell_type": "markdown",
   "id": "0007fbb5",
   "metadata": {},
   "source": [
    "## 2.9 Filling null values in spore-print-color column"
   ]
  },
  {
   "cell_type": "code",
   "execution_count": 28,
   "id": "aa50c46d",
   "metadata": {},
   "outputs": [
    {
     "data": {
      "text/plain": [
       "k    2118\n",
       "p    1259\n",
       "w    1212\n",
       "n    1059\n",
       "g     353\n",
       "u     182\n",
       "r     171\n",
       "Name: spore-print-color, dtype: int64"
      ]
     },
     "execution_count": 28,
     "metadata": {},
     "output_type": "execute_result"
    }
   ],
   "source": [
    "data_1['spore-print-color'].value_counts()"
   ]
  },
  {
   "cell_type": "code",
   "execution_count": 29,
   "id": "81531a46",
   "metadata": {},
   "outputs": [],
   "source": [
    "# the lack of a ring can be helpful in narrowing down  search for the identity of the mushroom, and some groups of \n",
    "#mushrooms generally lack rings and have specific spore print colors. Here are some examples:\n",
    "\n",
    "#Gilled mushrooms without rings:\n",
    "#Spore print:\n",
    "#White: Chanterelles, Button mushrooms, Oyster mushrooms\n",
    "#Cream/Buff: Field mushrooms, Honey mushrooms\n",
    "#Pink: Blushers, Lactarius species\n",
    "#Brown: Boletes, Lepistas, Stropharia species\n",
    "#Black: Ink caps, Coprinus species\n",
    "\n",
    "\n",
    "\n",
    "value_2=['w','b','p','n','k']\n",
    "missing_indices_2=data_1[(data_1['ring-type']=='f')|(data_1['spore-print-color'].isna())].index\n",
    "data_1.loc[missing_indices_2,'spore-print-color']=np.random.choice(value_2,size=len(missing_indices_2))\n",
    "\n",
    "value_3=['g','r','u','e','y','l','o']\n",
    "missing_indices_3=data_1[(data_1['ring-type']!='f')|(data_1['spore-print-color'].isna())].index\n",
    "data_1.loc[missing_indices_3,'spore-print-color']=np.random.choice(value_3,size=len(missing_indices_3))"
   ]
  },
  {
   "cell_type": "code",
   "execution_count": 30,
   "id": "5b832d18",
   "metadata": {},
   "outputs": [
    {
     "name": "stdout",
     "output_type": "stream",
     "text": [
      "<class 'pandas.core.frame.DataFrame'>\n",
      "RangeIndex: 61069 entries, 0 to 61068\n",
      "Data columns (total 19 columns):\n",
      " #   Column                Non-Null Count  Dtype  \n",
      "---  ------                --------------  -----  \n",
      " 0   class                 61069 non-null  object \n",
      " 1   cap-diameter          61069 non-null  float64\n",
      " 2   cap-shape             61069 non-null  object \n",
      " 3   cap-surface           61069 non-null  object \n",
      " 4   cap-color             61069 non-null  object \n",
      " 5   does-bruise-or-bleed  61069 non-null  object \n",
      " 6   gill-attachment       61069 non-null  object \n",
      " 7   gill-spacing          61069 non-null  object \n",
      " 8   gill-color            61069 non-null  object \n",
      " 9   stem-height           61069 non-null  float64\n",
      " 10  stem-width            61069 non-null  float64\n",
      " 11  stem-root             61069 non-null  object \n",
      " 12  stem-color            61069 non-null  object \n",
      " 13  veil-color            61069 non-null  object \n",
      " 14  has-ring              61069 non-null  object \n",
      " 15  ring-type             61069 non-null  object \n",
      " 16  spore-print-color     61069 non-null  object \n",
      " 17  habitat               61069 non-null  object \n",
      " 18  season                61069 non-null  object \n",
      "dtypes: float64(3), object(16)\n",
      "memory usage: 8.9+ MB\n"
     ]
    }
   ],
   "source": [
    "data_1.info()"
   ]
  },
  {
   "cell_type": "code",
   "execution_count": 31,
   "id": "07e515b1",
   "metadata": {},
   "outputs": [
    {
     "name": "stdout",
     "output_type": "stream",
     "text": [
      "p    33888\n",
      "e    27181\n",
      "Name: class, dtype: int64\n"
     ]
    },
    {
     "data": {
      "image/png": "[encoded data removed]",
      "text/plain": [
       "<Figure size 432x288 with 1 Axes>"
      ]
     },
     "metadata": {
      "needs_background": "light"
     },
     "output_type": "display_data"
    }
   ],
   "source": [
    "print(data_1['class'].value_counts())\n",
    "sns.histplot(data_1['class'])\n",
    "plt.xlabel('poisonous (p) or edible (e)')\n",
    "plt.ylabel('total count')\n",
    "plt.show()"
   ]
  },
  {
   "cell_type": "markdown",
   "id": "99c935e9",
   "metadata": {},
   "source": [
    "# 3. Finding out the outliers"
   ]
  },
  {
   "cell_type": "code",
   "execution_count": 32,
   "id": "bb1fbd64",
   "metadata": {},
   "outputs": [
    {
     "data": {
      "image/png": "[encoded data removed]",
      "text/plain": [
       "<Figure size 432x288 with 1 Axes>"
      ]
     },
     "metadata": {
      "needs_background": "light"
     },
     "output_type": "display_data"
    }
   ],
   "source": [
    "sns.boxplot(data=data_1)\n",
    "plt.show()"
   ]
  },
  {
   "cell_type": "code",
   "execution_count": 33,
   "id": "c1f75199",
   "metadata": {},
   "outputs": [],
   "source": [
    "# IQR method\n",
    "Q1 = data_1.quantile(0.25)\n",
    "Q3 = data_1.quantile(0.75)\n",
    "IQR = Q3 - Q1\n",
    "\n",
    "# Define a threshold for outliers\n",
    "threshold = 1.5\n",
    "\n",
    "# Identify outliers\n",
    "outliers = ((data_1 < (Q1 - threshold * IQR)) | (data_1 > (Q3 + threshold * IQR))).any(axis=1)\n"
   ]
  },
  {
   "cell_type": "code",
   "execution_count": 34,
   "id": "3ac5e27b",
   "metadata": {},
   "outputs": [
    {
     "data": {
      "text/plain": [
       "False    55729\n",
       "True      5340\n",
       "dtype: int64"
      ]
     },
     "execution_count": 34,
     "metadata": {},
     "output_type": "execute_result"
    }
   ],
   "source": [
    "outliers.value_counts()"
   ]
  },
  {
   "cell_type": "code",
   "execution_count": 35,
   "id": "f83090a4",
   "metadata": {},
   "outputs": [
    {
     "data": {
      "text/html": [
       "<div>\n",
       "<style scoped>\n",
       "    .dataframe tbody tr th:only-of-type {\n",
       "        vertical-align: middle;\n",
       "    }\n",
       "\n",
       "    .dataframe tbody tr th {\n",
       "        vertical-align: top;\n",
       "    }\n",
       "\n",
       "    .dataframe thead th {\n",
       "        text-align: right;\n",
       "    }\n",
       "</style>\n",
       "<table border=\"1\" class=\"dataframe\">\n",
       "  <thead>\n",
       "    <tr style=\"text-align: right;\">\n",
       "      <th></th>\n",
       "      <th>class</th>\n",
       "      <th>cap-diameter</th>\n",
       "      <th>cap-shape</th>\n",
       "      <th>cap-surface</th>\n",
       "      <th>cap-color</th>\n",
       "      <th>does-bruise-or-bleed</th>\n",
       "      <th>gill-attachment</th>\n",
       "      <th>gill-spacing</th>\n",
       "      <th>gill-color</th>\n",
       "      <th>stem-height</th>\n",
       "      <th>stem-width</th>\n",
       "      <th>stem-root</th>\n",
       "      <th>stem-color</th>\n",
       "      <th>veil-color</th>\n",
       "      <th>has-ring</th>\n",
       "      <th>ring-type</th>\n",
       "      <th>spore-print-color</th>\n",
       "      <th>habitat</th>\n",
       "      <th>season</th>\n",
       "    </tr>\n",
       "  </thead>\n",
       "  <tbody>\n",
       "    <tr>\n",
       "      <th>353</th>\n",
       "      <td>p</td>\n",
       "      <td>6.87</td>\n",
       "      <td>x</td>\n",
       "      <td>g</td>\n",
       "      <td>n</td>\n",
       "      <td>f</td>\n",
       "      <td>e</td>\n",
       "      <td>d</td>\n",
       "      <td>w</td>\n",
       "      <td>6.88</td>\n",
       "      <td>13.64</td>\n",
       "      <td>z</td>\n",
       "      <td>w</td>\n",
       "      <td>w</td>\n",
       "      <td>t</td>\n",
       "      <td>p</td>\n",
       "      <td>g</td>\n",
       "      <td>d</td>\n",
       "      <td>a</td>\n",
       "    </tr>\n",
       "    <tr>\n",
       "      <th>354</th>\n",
       "      <td>p</td>\n",
       "      <td>8.59</td>\n",
       "      <td>p</td>\n",
       "      <td>g</td>\n",
       "      <td>n</td>\n",
       "      <td>f</td>\n",
       "      <td>e</td>\n",
       "      <td>d</td>\n",
       "      <td>w</td>\n",
       "      <td>9.15</td>\n",
       "      <td>17.34</td>\n",
       "      <td>f</td>\n",
       "      <td>w</td>\n",
       "      <td>w</td>\n",
       "      <td>t</td>\n",
       "      <td>p</td>\n",
       "      <td>y</td>\n",
       "      <td>d</td>\n",
       "      <td>a</td>\n",
       "    </tr>\n",
       "    <tr>\n",
       "      <th>355</th>\n",
       "      <td>p</td>\n",
       "      <td>5.95</td>\n",
       "      <td>p</td>\n",
       "      <td>g</td>\n",
       "      <td>n</td>\n",
       "      <td>f</td>\n",
       "      <td>e</td>\n",
       "      <td>d</td>\n",
       "      <td>w</td>\n",
       "      <td>7.54</td>\n",
       "      <td>12.73</td>\n",
       "      <td>s</td>\n",
       "      <td>w</td>\n",
       "      <td>w</td>\n",
       "      <td>t</td>\n",
       "      <td>p</td>\n",
       "      <td>r</td>\n",
       "      <td>d</td>\n",
       "      <td>u</td>\n",
       "    </tr>\n",
       "    <tr>\n",
       "      <th>356</th>\n",
       "      <td>p</td>\n",
       "      <td>6.51</td>\n",
       "      <td>x</td>\n",
       "      <td>g</td>\n",
       "      <td>n</td>\n",
       "      <td>f</td>\n",
       "      <td>e</td>\n",
       "      <td>d</td>\n",
       "      <td>w</td>\n",
       "      <td>6.80</td>\n",
       "      <td>12.92</td>\n",
       "      <td>s</td>\n",
       "      <td>w</td>\n",
       "      <td>w</td>\n",
       "      <td>t</td>\n",
       "      <td>p</td>\n",
       "      <td>o</td>\n",
       "      <td>d</td>\n",
       "      <td>a</td>\n",
       "    </tr>\n",
       "    <tr>\n",
       "      <th>357</th>\n",
       "      <td>p</td>\n",
       "      <td>7.66</td>\n",
       "      <td>x</td>\n",
       "      <td>g</td>\n",
       "      <td>n</td>\n",
       "      <td>f</td>\n",
       "      <td>e</td>\n",
       "      <td>d</td>\n",
       "      <td>w</td>\n",
       "      <td>8.55</td>\n",
       "      <td>14.98</td>\n",
       "      <td>b</td>\n",
       "      <td>w</td>\n",
       "      <td>w</td>\n",
       "      <td>t</td>\n",
       "      <td>p</td>\n",
       "      <td>g</td>\n",
       "      <td>d</td>\n",
       "      <td>a</td>\n",
       "    </tr>\n",
       "    <tr>\n",
       "      <th>...</th>\n",
       "      <td>...</td>\n",
       "      <td>...</td>\n",
       "      <td>...</td>\n",
       "      <td>...</td>\n",
       "      <td>...</td>\n",
       "      <td>...</td>\n",
       "      <td>...</td>\n",
       "      <td>...</td>\n",
       "      <td>...</td>\n",
       "      <td>...</td>\n",
       "      <td>...</td>\n",
       "      <td>...</td>\n",
       "      <td>...</td>\n",
       "      <td>...</td>\n",
       "      <td>...</td>\n",
       "      <td>...</td>\n",
       "      <td>...</td>\n",
       "      <td>...</td>\n",
       "      <td>...</td>\n",
       "    </tr>\n",
       "    <tr>\n",
       "      <th>61064</th>\n",
       "      <td>p</td>\n",
       "      <td>1.18</td>\n",
       "      <td>s</td>\n",
       "      <td>s</td>\n",
       "      <td>y</td>\n",
       "      <td>f</td>\n",
       "      <td>f</td>\n",
       "      <td>f</td>\n",
       "      <td>f</td>\n",
       "      <td>3.93</td>\n",
       "      <td>6.22</td>\n",
       "      <td>s</td>\n",
       "      <td>y</td>\n",
       "      <td>y</td>\n",
       "      <td>f</td>\n",
       "      <td>f</td>\n",
       "      <td>k</td>\n",
       "      <td>d</td>\n",
       "      <td>a</td>\n",
       "    </tr>\n",
       "    <tr>\n",
       "      <th>61065</th>\n",
       "      <td>p</td>\n",
       "      <td>1.27</td>\n",
       "      <td>f</td>\n",
       "      <td>s</td>\n",
       "      <td>y</td>\n",
       "      <td>f</td>\n",
       "      <td>f</td>\n",
       "      <td>f</td>\n",
       "      <td>f</td>\n",
       "      <td>3.18</td>\n",
       "      <td>5.43</td>\n",
       "      <td>s</td>\n",
       "      <td>y</td>\n",
       "      <td>y</td>\n",
       "      <td>f</td>\n",
       "      <td>f</td>\n",
       "      <td>b</td>\n",
       "      <td>d</td>\n",
       "      <td>a</td>\n",
       "    </tr>\n",
       "    <tr>\n",
       "      <th>61066</th>\n",
       "      <td>p</td>\n",
       "      <td>1.27</td>\n",
       "      <td>s</td>\n",
       "      <td>s</td>\n",
       "      <td>y</td>\n",
       "      <td>f</td>\n",
       "      <td>f</td>\n",
       "      <td>f</td>\n",
       "      <td>f</td>\n",
       "      <td>3.86</td>\n",
       "      <td>6.37</td>\n",
       "      <td>f</td>\n",
       "      <td>y</td>\n",
       "      <td>y</td>\n",
       "      <td>f</td>\n",
       "      <td>f</td>\n",
       "      <td>n</td>\n",
       "      <td>d</td>\n",
       "      <td>u</td>\n",
       "    </tr>\n",
       "    <tr>\n",
       "      <th>61067</th>\n",
       "      <td>p</td>\n",
       "      <td>1.24</td>\n",
       "      <td>f</td>\n",
       "      <td>s</td>\n",
       "      <td>y</td>\n",
       "      <td>f</td>\n",
       "      <td>f</td>\n",
       "      <td>f</td>\n",
       "      <td>f</td>\n",
       "      <td>3.56</td>\n",
       "      <td>5.44</td>\n",
       "      <td>u</td>\n",
       "      <td>y</td>\n",
       "      <td>y</td>\n",
       "      <td>f</td>\n",
       "      <td>f</td>\n",
       "      <td>p</td>\n",
       "      <td>d</td>\n",
       "      <td>u</td>\n",
       "    </tr>\n",
       "    <tr>\n",
       "      <th>61068</th>\n",
       "      <td>p</td>\n",
       "      <td>1.17</td>\n",
       "      <td>s</td>\n",
       "      <td>s</td>\n",
       "      <td>y</td>\n",
       "      <td>f</td>\n",
       "      <td>f</td>\n",
       "      <td>f</td>\n",
       "      <td>f</td>\n",
       "      <td>3.25</td>\n",
       "      <td>5.45</td>\n",
       "      <td>f</td>\n",
       "      <td>y</td>\n",
       "      <td>y</td>\n",
       "      <td>f</td>\n",
       "      <td>f</td>\n",
       "      <td>w</td>\n",
       "      <td>d</td>\n",
       "      <td>u</td>\n",
       "    </tr>\n",
       "  </tbody>\n",
       "</table>\n",
       "<p>55729 rows × 19 columns</p>\n",
       "</div>"
      ],
      "text/plain": [
       "      class  cap-diameter cap-shape cap-surface cap-color  \\\n",
       "353       p          6.87         x           g         n   \n",
       "354       p          8.59         p           g         n   \n",
       "355       p          5.95         p           g         n   \n",
       "356       p          6.51         x           g         n   \n",
       "357       p          7.66         x           g         n   \n",
       "...     ...           ...       ...         ...       ...   \n",
       "61064     p          1.18         s           s         y   \n",
       "61065     p          1.27         f           s         y   \n",
       "61066     p          1.27         s           s         y   \n",
       "61067     p          1.24         f           s         y   \n",
       "61068     p          1.17         s           s         y   \n",
       "\n",
       "      does-bruise-or-bleed gill-attachment gill-spacing gill-color  \\\n",
       "353                      f               e            d          w   \n",
       "354                      f               e            d          w   \n",
       "355                      f               e            d          w   \n",
       "356                      f               e            d          w   \n",
       "357                      f               e            d          w   \n",
       "...                    ...             ...          ...        ...   \n",
       "61064                    f               f            f          f   \n",
       "61065                    f               f            f          f   \n",
       "61066                    f               f            f          f   \n",
       "61067                    f               f            f          f   \n",
       "61068                    f               f            f          f   \n",
       "\n",
       "       stem-height  stem-width stem-root stem-color veil-color has-ring  \\\n",
       "353           6.88       13.64         z          w          w        t   \n",
       "354           9.15       17.34         f          w          w        t   \n",
       "355           7.54       12.73         s          w          w        t   \n",
       "356           6.80       12.92         s          w          w        t   \n",
       "357           8.55       14.98         b          w          w        t   \n",
       "...            ...         ...       ...        ...        ...      ...   \n",
       "61064         3.93        6.22         s          y          y        f   \n",
       "61065         3.18        5.43         s          y          y        f   \n",
       "61066         3.86        6.37         f          y          y        f   \n",
       "61067         3.56        5.44         u          y          y        f   \n",
       "61068         3.25        5.45         f          y          y        f   \n",
       "\n",
       "      ring-type spore-print-color habitat season  \n",
       "353           p                 g       d      a  \n",
       "354           p                 y       d      a  \n",
       "355           p                 r       d      u  \n",
       "356           p                 o       d      a  \n",
       "357           p                 g       d      a  \n",
       "...         ...               ...     ...    ...  \n",
       "61064         f                 k       d      a  \n",
       "61065         f                 b       d      a  \n",
       "61066         f                 n       d      u  \n",
       "61067         f                 p       d      u  \n",
       "61068         f                 w       d      u  \n",
       "\n",
       "[55729 rows x 19 columns]"
      ]
     },
     "execution_count": 35,
     "metadata": {},
     "output_type": "execute_result"
    }
   ],
   "source": [
    "# merging data_1 and outliers\n",
    "\n",
    "\n",
    "\n",
    "outliers=pd.DataFrame(outliers)\n",
    "outliers.columns=['outliers']\n",
    "\n",
    "data_1= pd.concat([data_1, outliers], axis=1)\n",
    "\n",
    "\n",
    "# removing outliers\n",
    "\n",
    "\n",
    "data_1=data_1[data_1['outliers']!=True]\n",
    "\n",
    "# removing the column containing outliers\n",
    "\n",
    "data_1=data_1.drop('outliers',axis=1)\n",
    "\n",
    "data_1"
   ]
  },
  {
   "cell_type": "markdown",
   "id": "63acf223",
   "metadata": {},
   "source": [
    "# 4. Using Category Encoders to convert the object columns to numerical columns"
   ]
  },
  {
   "cell_type": "code",
   "execution_count": 36,
   "id": "b4a244cd",
   "metadata": {},
   "outputs": [
    {
     "name": "stdout",
     "output_type": "stream",
     "text": [
      "Requirement already satisfied: category_encoders in c:\\users\\lenovo\\anaconda3\\lib\\site-packages (2.6.3)\n",
      "Requirement already satisfied: scipy>=1.0.0 in c:\\users\\lenovo\\anaconda3\\lib\\site-packages (from category_encoders) (1.7.3)\n",
      "Requirement already satisfied: pandas>=1.0.5 in c:\\users\\lenovo\\anaconda3\\lib\\site-packages (from category_encoders) (1.4.2)\n",
      "Requirement already satisfied: scikit-learn>=0.20.0 in c:\\users\\lenovo\\anaconda3\\lib\\site-packages (from category_encoders) (1.0.2)\n",
      "Requirement already satisfied: statsmodels>=0.9.0 in c:\\users\\lenovo\\anaconda3\\lib\\site-packages (from category_encoders) (0.13.2)\n",
      "Requirement already satisfied: numpy>=1.14.0 in c:\\users\\lenovo\\anaconda3\\lib\\site-packages (from category_encoders) (1.21.5)\n",
      "Requirement already satisfied: patsy>=0.5.1 in c:\\users\\lenovo\\anaconda3\\lib\\site-packages (from category_encoders) (0.5.2)\n",
      "Requirement already satisfied: python-dateutil>=2.8.1 in c:\\users\\lenovo\\anaconda3\\lib\\site-packages (from pandas>=1.0.5->category_encoders) (2.8.2)\n",
      "Requirement already satisfied: pytz>=2020.1 in c:\\users\\lenovo\\anaconda3\\lib\\site-packages (from pandas>=1.0.5->category_encoders) (2021.3)\n",
      "Requirement already satisfied: six in c:\\users\\lenovo\\anaconda3\\lib\\site-packages (from patsy>=0.5.1->category_encoders) (1.16.0)\n",
      "Requirement already satisfied: joblib>=0.11 in c:\\users\\lenovo\\anaconda3\\lib\\site-packages (from scikit-learn>=0.20.0->category_encoders) (1.1.0)\n",
      "Requirement already satisfied: threadpoolctl>=2.0.0 in c:\\users\\lenovo\\anaconda3\\lib\\site-packages (from scikit-learn>=0.20.0->category_encoders) (2.2.0)\n",
      "Requirement already satisfied: packaging>=21.3 in c:\\users\\lenovo\\anaconda3\\lib\\site-packages (from statsmodels>=0.9.0->category_encoders) (21.3)\n",
      "Requirement already satisfied: pyparsing!=3.0.5,>=2.0.2 in c:\\users\\lenovo\\anaconda3\\lib\\site-packages (from packaging>=21.3->statsmodels>=0.9.0->category_encoders) (3.0.4)\n",
      "Note: you may need to restart the kernel to use updated packages.\n"
     ]
    }
   ],
   "source": [
    "pip install category_encoders"
   ]
  },
  {
   "cell_type": "code",
   "execution_count": 37,
   "id": "50bf970a",
   "metadata": {},
   "outputs": [],
   "source": [
    "import category_encoders as ce"
   ]
  },
  {
   "cell_type": "code",
   "execution_count": 38,
   "id": "2e7ed3ae",
   "metadata": {},
   "outputs": [
    {
     "name": "stdout",
     "output_type": "stream",
     "text": [
      "class\n",
      "cap-diameter\n",
      "cap-shape\n",
      "cap-surface\n",
      "cap-color\n",
      "does-bruise-or-bleed\n",
      "gill-attachment\n",
      "gill-spacing\n",
      "gill-color\n",
      "stem-height\n",
      "stem-width\n",
      "stem-root\n",
      "stem-color\n",
      "veil-color\n",
      "has-ring\n",
      "ring-type\n",
      "spore-print-color\n",
      "habitat\n",
      "season\n"
     ]
    }
   ],
   "source": [
    "for i in data_1.columns:\n",
    "    print(i)"
   ]
  },
  {
   "cell_type": "code",
   "execution_count": 39,
   "id": "fc1866be",
   "metadata": {},
   "outputs": [],
   "source": [
    "# use ordinal encoder to convert the columns\n",
    "\n",
    "encoders=ce.OrdinalEncoder(cols=['cap-shape','cap-surface','cap-color','does-bruise-or-bleed','gill-attachment','gill-spacing','gill-color','stem-root','stem-color','veil-color','has-ring','ring-type','spore-print-color','habitat','season'])\n",
    "data_1=encoders.fit_transform(data_1)\n"
   ]
  },
  {
   "cell_type": "code",
   "execution_count": 40,
   "id": "6f4d833c",
   "metadata": {},
   "outputs": [
    {
     "data": {
      "text/html": [
       "<div>\n",
       "<style scoped>\n",
       "    .dataframe tbody tr th:only-of-type {\n",
       "        vertical-align: middle;\n",
       "    }\n",
       "\n",
       "    .dataframe tbody tr th {\n",
       "        vertical-align: top;\n",
       "    }\n",
       "\n",
       "    .dataframe thead th {\n",
       "        text-align: right;\n",
       "    }\n",
       "</style>\n",
       "<table border=\"1\" class=\"dataframe\">\n",
       "  <thead>\n",
       "    <tr style=\"text-align: right;\">\n",
       "      <th></th>\n",
       "      <th>class</th>\n",
       "      <th>cap-diameter</th>\n",
       "      <th>cap-shape</th>\n",
       "      <th>cap-surface</th>\n",
       "      <th>cap-color</th>\n",
       "      <th>does-bruise-or-bleed</th>\n",
       "      <th>gill-attachment</th>\n",
       "      <th>gill-spacing</th>\n",
       "      <th>gill-color</th>\n",
       "      <th>stem-height</th>\n",
       "      <th>stem-width</th>\n",
       "      <th>stem-root</th>\n",
       "      <th>stem-color</th>\n",
       "      <th>veil-color</th>\n",
       "      <th>has-ring</th>\n",
       "      <th>ring-type</th>\n",
       "      <th>spore-print-color</th>\n",
       "      <th>habitat</th>\n",
       "      <th>season</th>\n",
       "    </tr>\n",
       "  </thead>\n",
       "  <tbody>\n",
       "    <tr>\n",
       "      <th>353</th>\n",
       "      <td>p</td>\n",
       "      <td>6.87</td>\n",
       "      <td>1</td>\n",
       "      <td>1</td>\n",
       "      <td>1</td>\n",
       "      <td>1</td>\n",
       "      <td>1</td>\n",
       "      <td>1</td>\n",
       "      <td>1</td>\n",
       "      <td>6.88</td>\n",
       "      <td>13.64</td>\n",
       "      <td>1</td>\n",
       "      <td>1</td>\n",
       "      <td>1</td>\n",
       "      <td>1</td>\n",
       "      <td>1</td>\n",
       "      <td>1</td>\n",
       "      <td>1</td>\n",
       "      <td>1</td>\n",
       "    </tr>\n",
       "    <tr>\n",
       "      <th>354</th>\n",
       "      <td>p</td>\n",
       "      <td>8.59</td>\n",
       "      <td>2</td>\n",
       "      <td>1</td>\n",
       "      <td>1</td>\n",
       "      <td>1</td>\n",
       "      <td>1</td>\n",
       "      <td>1</td>\n",
       "      <td>1</td>\n",
       "      <td>9.15</td>\n",
       "      <td>17.34</td>\n",
       "      <td>2</td>\n",
       "      <td>1</td>\n",
       "      <td>1</td>\n",
       "      <td>1</td>\n",
       "      <td>1</td>\n",
       "      <td>2</td>\n",
       "      <td>1</td>\n",
       "      <td>1</td>\n",
       "    </tr>\n",
       "    <tr>\n",
       "      <th>355</th>\n",
       "      <td>p</td>\n",
       "      <td>5.95</td>\n",
       "      <td>2</td>\n",
       "      <td>1</td>\n",
       "      <td>1</td>\n",
       "      <td>1</td>\n",
       "      <td>1</td>\n",
       "      <td>1</td>\n",
       "      <td>1</td>\n",
       "      <td>7.54</td>\n",
       "      <td>12.73</td>\n",
       "      <td>3</td>\n",
       "      <td>1</td>\n",
       "      <td>1</td>\n",
       "      <td>1</td>\n",
       "      <td>1</td>\n",
       "      <td>3</td>\n",
       "      <td>1</td>\n",
       "      <td>2</td>\n",
       "    </tr>\n",
       "    <tr>\n",
       "      <th>356</th>\n",
       "      <td>p</td>\n",
       "      <td>6.51</td>\n",
       "      <td>1</td>\n",
       "      <td>1</td>\n",
       "      <td>1</td>\n",
       "      <td>1</td>\n",
       "      <td>1</td>\n",
       "      <td>1</td>\n",
       "      <td>1</td>\n",
       "      <td>6.80</td>\n",
       "      <td>12.92</td>\n",
       "      <td>3</td>\n",
       "      <td>1</td>\n",
       "      <td>1</td>\n",
       "      <td>1</td>\n",
       "      <td>1</td>\n",
       "      <td>4</td>\n",
       "      <td>1</td>\n",
       "      <td>1</td>\n",
       "    </tr>\n",
       "    <tr>\n",
       "      <th>357</th>\n",
       "      <td>p</td>\n",
       "      <td>7.66</td>\n",
       "      <td>1</td>\n",
       "      <td>1</td>\n",
       "      <td>1</td>\n",
       "      <td>1</td>\n",
       "      <td>1</td>\n",
       "      <td>1</td>\n",
       "      <td>1</td>\n",
       "      <td>8.55</td>\n",
       "      <td>14.98</td>\n",
       "      <td>4</td>\n",
       "      <td>1</td>\n",
       "      <td>1</td>\n",
       "      <td>1</td>\n",
       "      <td>1</td>\n",
       "      <td>1</td>\n",
       "      <td>1</td>\n",
       "      <td>1</td>\n",
       "    </tr>\n",
       "    <tr>\n",
       "      <th>...</th>\n",
       "      <td>...</td>\n",
       "      <td>...</td>\n",
       "      <td>...</td>\n",
       "      <td>...</td>\n",
       "      <td>...</td>\n",
       "      <td>...</td>\n",
       "      <td>...</td>\n",
       "      <td>...</td>\n",
       "      <td>...</td>\n",
       "      <td>...</td>\n",
       "      <td>...</td>\n",
       "      <td>...</td>\n",
       "      <td>...</td>\n",
       "      <td>...</td>\n",
       "      <td>...</td>\n",
       "      <td>...</td>\n",
       "      <td>...</td>\n",
       "      <td>...</td>\n",
       "      <td>...</td>\n",
       "    </tr>\n",
       "    <tr>\n",
       "      <th>61064</th>\n",
       "      <td>p</td>\n",
       "      <td>1.18</td>\n",
       "      <td>6</td>\n",
       "      <td>7</td>\n",
       "      <td>5</td>\n",
       "      <td>1</td>\n",
       "      <td>4</td>\n",
       "      <td>3</td>\n",
       "      <td>12</td>\n",
       "      <td>3.93</td>\n",
       "      <td>6.22</td>\n",
       "      <td>3</td>\n",
       "      <td>2</td>\n",
       "      <td>2</td>\n",
       "      <td>2</td>\n",
       "      <td>5</td>\n",
       "      <td>8</td>\n",
       "      <td>1</td>\n",
       "      <td>1</td>\n",
       "    </tr>\n",
       "    <tr>\n",
       "      <th>61065</th>\n",
       "      <td>p</td>\n",
       "      <td>1.27</td>\n",
       "      <td>3</td>\n",
       "      <td>7</td>\n",
       "      <td>5</td>\n",
       "      <td>1</td>\n",
       "      <td>4</td>\n",
       "      <td>3</td>\n",
       "      <td>12</td>\n",
       "      <td>3.18</td>\n",
       "      <td>5.43</td>\n",
       "      <td>3</td>\n",
       "      <td>2</td>\n",
       "      <td>2</td>\n",
       "      <td>2</td>\n",
       "      <td>5</td>\n",
       "      <td>10</td>\n",
       "      <td>1</td>\n",
       "      <td>1</td>\n",
       "    </tr>\n",
       "    <tr>\n",
       "      <th>61066</th>\n",
       "      <td>p</td>\n",
       "      <td>1.27</td>\n",
       "      <td>6</td>\n",
       "      <td>7</td>\n",
       "      <td>5</td>\n",
       "      <td>1</td>\n",
       "      <td>4</td>\n",
       "      <td>3</td>\n",
       "      <td>12</td>\n",
       "      <td>3.86</td>\n",
       "      <td>6.37</td>\n",
       "      <td>2</td>\n",
       "      <td>2</td>\n",
       "      <td>2</td>\n",
       "      <td>2</td>\n",
       "      <td>5</td>\n",
       "      <td>12</td>\n",
       "      <td>1</td>\n",
       "      <td>2</td>\n",
       "    </tr>\n",
       "    <tr>\n",
       "      <th>61067</th>\n",
       "      <td>p</td>\n",
       "      <td>1.24</td>\n",
       "      <td>3</td>\n",
       "      <td>7</td>\n",
       "      <td>5</td>\n",
       "      <td>1</td>\n",
       "      <td>4</td>\n",
       "      <td>3</td>\n",
       "      <td>12</td>\n",
       "      <td>3.56</td>\n",
       "      <td>5.44</td>\n",
       "      <td>5</td>\n",
       "      <td>2</td>\n",
       "      <td>2</td>\n",
       "      <td>2</td>\n",
       "      <td>5</td>\n",
       "      <td>9</td>\n",
       "      <td>1</td>\n",
       "      <td>2</td>\n",
       "    </tr>\n",
       "    <tr>\n",
       "      <th>61068</th>\n",
       "      <td>p</td>\n",
       "      <td>1.17</td>\n",
       "      <td>6</td>\n",
       "      <td>7</td>\n",
       "      <td>5</td>\n",
       "      <td>1</td>\n",
       "      <td>4</td>\n",
       "      <td>3</td>\n",
       "      <td>12</td>\n",
       "      <td>3.25</td>\n",
       "      <td>5.45</td>\n",
       "      <td>2</td>\n",
       "      <td>2</td>\n",
       "      <td>2</td>\n",
       "      <td>2</td>\n",
       "      <td>5</td>\n",
       "      <td>11</td>\n",
       "      <td>1</td>\n",
       "      <td>2</td>\n",
       "    </tr>\n",
       "  </tbody>\n",
       "</table>\n",
       "<p>55729 rows × 19 columns</p>\n",
       "</div>"
      ],
      "text/plain": [
       "      class  cap-diameter  cap-shape  cap-surface  cap-color  \\\n",
       "353       p          6.87          1            1          1   \n",
       "354       p          8.59          2            1          1   \n",
       "355       p          5.95          2            1          1   \n",
       "356       p          6.51          1            1          1   \n",
       "357       p          7.66          1            1          1   \n",
       "...     ...           ...        ...          ...        ...   \n",
       "61064     p          1.18          6            7          5   \n",
       "61065     p          1.27          3            7          5   \n",
       "61066     p          1.27          6            7          5   \n",
       "61067     p          1.24          3            7          5   \n",
       "61068     p          1.17          6            7          5   \n",
       "\n",
       "       does-bruise-or-bleed  gill-attachment  gill-spacing  gill-color  \\\n",
       "353                       1                1             1           1   \n",
       "354                       1                1             1           1   \n",
       "355                       1                1             1           1   \n",
       "356                       1                1             1           1   \n",
       "357                       1                1             1           1   \n",
       "...                     ...              ...           ...         ...   \n",
       "61064                     1                4             3          12   \n",
       "61065                     1                4             3          12   \n",
       "61066                     1                4             3          12   \n",
       "61067                     1                4             3          12   \n",
       "61068                     1                4             3          12   \n",
       "\n",
       "       stem-height  stem-width  stem-root  stem-color  veil-color  has-ring  \\\n",
       "353           6.88       13.64          1           1           1         1   \n",
       "354           9.15       17.34          2           1           1         1   \n",
       "355           7.54       12.73          3           1           1         1   \n",
       "356           6.80       12.92          3           1           1         1   \n",
       "357           8.55       14.98          4           1           1         1   \n",
       "...            ...         ...        ...         ...         ...       ...   \n",
       "61064         3.93        6.22          3           2           2         2   \n",
       "61065         3.18        5.43          3           2           2         2   \n",
       "61066         3.86        6.37          2           2           2         2   \n",
       "61067         3.56        5.44          5           2           2         2   \n",
       "61068         3.25        5.45          2           2           2         2   \n",
       "\n",
       "       ring-type  spore-print-color  habitat  season  \n",
       "353            1                  1        1       1  \n",
       "354            1                  2        1       1  \n",
       "355            1                  3        1       2  \n",
       "356            1                  4        1       1  \n",
       "357            1                  1        1       1  \n",
       "...          ...                ...      ...     ...  \n",
       "61064          5                  8        1       1  \n",
       "61065          5                 10        1       1  \n",
       "61066          5                 12        1       2  \n",
       "61067          5                  9        1       2  \n",
       "61068          5                 11        1       2  \n",
       "\n",
       "[55729 rows x 19 columns]"
      ]
     },
     "execution_count": 40,
     "metadata": {},
     "output_type": "execute_result"
    }
   ],
   "source": [
    "data_1"
   ]
  },
  {
   "cell_type": "markdown",
   "id": "ef178f98",
   "metadata": {},
   "source": [
    "# 5. Using Decision Tree model for this classification problem since it is an ensemble method that combines multiple decision trees. It is robust, handles non-linearity well, and provides feature importance."
   ]
  },
  {
   "cell_type": "code",
   "execution_count": 41,
   "id": "e1b5109b",
   "metadata": {},
   "outputs": [],
   "source": [
    "# import the necessary modules\n",
    "\n",
    "\n",
    "from sklearn.model_selection import train_test_split\n",
    "from sklearn.tree import DecisionTreeClassifier\n",
    "from sklearn.metrics import accuracy_score"
   ]
  },
  {
   "cell_type": "code",
   "execution_count": 42,
   "id": "6861ce27",
   "metadata": {},
   "outputs": [],
   "source": [
    "x=data_1.drop('class',axis=1)\n",
    "y=data_1['class']"
   ]
  },
  {
   "cell_type": "code",
   "execution_count": 43,
   "id": "f21248f5",
   "metadata": {},
   "outputs": [],
   "source": [
    "# split the data sets for tarining and testing\n",
    "\n",
    "x_train,x_test,y_train,y_test=train_test_split(x,y,test_size=0.25,random_state=101)"
   ]
  },
  {
   "cell_type": "markdown",
   "id": "0f00f790",
   "metadata": {},
   "source": [
    "# 6. Decision Tree using gini index"
   ]
  },
  {
   "cell_type": "code",
   "execution_count": 44,
   "id": "dec81946",
   "metadata": {},
   "outputs": [],
   "source": [
    "gini=DecisionTreeClassifier(criterion='gini', max_depth=7,random_state=101)"
   ]
  },
  {
   "cell_type": "code",
   "execution_count": 45,
   "id": "ea6d6fb1",
   "metadata": {},
   "outputs": [
    {
     "data": {
      "text/plain": [
       "DecisionTreeClassifier(max_depth=7, random_state=101)"
      ]
     },
     "execution_count": 45,
     "metadata": {},
     "output_type": "execute_result"
    }
   ],
   "source": [
    "# fitting the model using training datas\n",
    "\n",
    "gini.fit(x_train,y_train)"
   ]
  },
  {
   "cell_type": "code",
   "execution_count": 46,
   "id": "a5064fb2",
   "metadata": {},
   "outputs": [],
   "source": [
    "gini_prediction=gini.predict(x_test)"
   ]
  },
  {
   "cell_type": "code",
   "execution_count": 47,
   "id": "d1d8494c",
   "metadata": {},
   "outputs": [
    {
     "name": "stdout",
     "output_type": "stream",
     "text": [
      "test accuracy scorre: 0.9177\n"
     ]
    }
   ],
   "source": [
    "print('test accuracy scorre: {:.4f}'.format(accuracy_score(y_test,gini_prediction)))"
   ]
  },
  {
   "cell_type": "code",
   "execution_count": 48,
   "id": "386c1ac0",
   "metadata": {},
   "outputs": [
    {
     "data": {
      "text/plain": [
       "stem-width              0.226301\n",
       "cap-surface             0.171176\n",
       "gill-spacing            0.132971\n",
       "gill-attachment         0.115291\n",
       "gill-color              0.088018\n",
       "stem-height             0.085151\n",
       "stem-color              0.049998\n",
       "season                  0.034375\n",
       "cap-shape               0.018743\n",
       "cap-color               0.016890\n",
       "ring-type               0.016466\n",
       "has-ring                0.014423\n",
       "does-bruise-or-bleed    0.013211\n",
       "cap-diameter            0.007952\n",
       "veil-color              0.003507\n",
       "spore-print-color       0.003186\n",
       "habitat                 0.002340\n",
       "stem-root               0.000000\n",
       "dtype: float64"
      ]
     },
     "execution_count": 48,
     "metadata": {},
     "output_type": "execute_result"
    }
   ],
   "source": [
    "# view the feature scores\n",
    "\n",
    "feature_scores = pd.Series(gini.feature_importances_, index=x_train.columns).sort_values(ascending=False)\n",
    "\n",
    "feature_scores"
   ]
  },
  {
   "cell_type": "markdown",
   "id": "2d28d082",
   "metadata": {},
   "source": [
    "## 6.1 Visualizing important features for gini index"
   ]
  },
  {
   "cell_type": "code",
   "execution_count": 49,
   "id": "425d0bfe",
   "metadata": {},
   "outputs": [
    {
     "data": {
      "image/png": "[encoded data removed]",
      "text/plain": [
       "<Figure size 432x288 with 1 Axes>"
      ]
     },
     "metadata": {
      "needs_background": "light"
     },
     "output_type": "display_data"
    }
   ],
   "source": [
    "# Creating a seaborn bar plot\n",
    "\n",
    "sns.barplot(x=feature_scores, y=feature_scores.index)\n",
    "\n",
    "\n",
    "\n",
    "# Add labels to the graph\n",
    "\n",
    "plt.xlabel('Gini Index Feature Importance Score')\n",
    "\n",
    "plt.ylabel('Features')\n",
    "\n",
    "\n",
    "\n",
    "# Add title to the graph\n",
    "\n",
    "plt.title(\"Visualizing Important Features\")\n",
    "\n",
    "# Visualize the graph\n",
    "\n",
    "plt.show()"
   ]
  },
  {
   "cell_type": "markdown",
   "id": "26fb84d7",
   "metadata": {},
   "source": [
    "## 6.2 summarizing the performance of a classification algorithm using confusion matrix for gini index"
   ]
  },
  {
   "cell_type": "code",
   "execution_count": 50,
   "id": "3d6d5f62",
   "metadata": {},
   "outputs": [],
   "source": [
    "from sklearn.metrics import confusion_matrix"
   ]
  },
  {
   "cell_type": "code",
   "execution_count": 51,
   "id": "05743a57",
   "metadata": {},
   "outputs": [
    {
     "name": "stdout",
     "output_type": "stream",
     "text": [
      "Confusion matrix\n",
      "\n",
      " [[5442  641]\n",
      " [ 505 7345]]\n"
     ]
    }
   ],
   "source": [
    "cm=confusion_matrix(y_test,gini_prediction)\n",
    "print('Confusion matrix\\n\\n', cm)\n"
   ]
  },
  {
   "cell_type": "markdown",
   "id": "b1251603",
   "metadata": {},
   "source": [
    "## 6.3 Classification Report for gini index"
   ]
  },
  {
   "cell_type": "code",
   "execution_count": 52,
   "id": "33bf8f43",
   "metadata": {},
   "outputs": [
    {
     "name": "stdout",
     "output_type": "stream",
     "text": [
      "              precision    recall  f1-score   support\n",
      "\n",
      "           e       0.92      0.89      0.90      6083\n",
      "           p       0.92      0.94      0.93      7850\n",
      "\n",
      "    accuracy                           0.92     13933\n",
      "   macro avg       0.92      0.92      0.92     13933\n",
      "weighted avg       0.92      0.92      0.92     13933\n",
      "\n"
     ]
    }
   ],
   "source": [
    "from sklearn.metrics import classification_report\n",
    "\n",
    "print(classification_report(y_test, gini_prediction))"
   ]
  },
  {
   "cell_type": "markdown",
   "id": "4955710a",
   "metadata": {},
   "source": [
    "## 6.4 Plot the tree for gini index"
   ]
  },
  {
   "cell_type": "code",
   "execution_count": 53,
   "id": "5d7a6abc",
   "metadata": {},
   "outputs": [
    {
     "data": {
      "text/plain": [
       "[Text(0.5092844202898551, 0.9375, 'X[6] <= 1.5\\ngini = 0.492\\nsamples = 41796\\nvalue = [18326, 23470]'),\n",
       " Text(0.322463768115942, 0.8125, 'X[17] <= 2.5\\ngini = 0.347\\nsamples = 14819\\nvalue = [3310, 11509]'),\n",
       " Text(0.2210144927536232, 0.6875, 'X[2] <= 6.5\\ngini = 0.289\\nsamples = 13042\\nvalue = [2287, 10755]'),\n",
       " Text(0.11594202898550725, 0.5625, 'X[9] <= 5.555\\ngini = 0.205\\nsamples = 9368\\nvalue = [1088, 8280]'),\n",
       " Text(0.057971014492753624, 0.4375, 'X[9] <= 2.785\\ngini = 0.313\\nsamples = 4629\\nvalue = [898, 3731]'),\n",
       " Text(0.028985507246376812, 0.3125, 'X[0] <= 3.115\\ngini = 0.055\\nsamples = 2781\\nvalue = [78, 2703]'),\n",
       " Text(0.014492753623188406, 0.1875, 'X[1] <= 2.0\\ngini = 0.029\\nsamples = 2603\\nvalue = [38, 2565]'),\n",
       " Text(0.007246376811594203, 0.0625, 'gini = 0.0\\nsamples = 1781\\nvalue = [0, 1781]'),\n",
       " Text(0.021739130434782608, 0.0625, 'gini = 0.088\\nsamples = 822\\nvalue = [38, 784]'),\n",
       " Text(0.043478260869565216, 0.1875, 'X[2] <= 1.5\\ngini = 0.348\\nsamples = 178\\nvalue = [40, 138]'),\n",
       " Text(0.036231884057971016, 0.0625, 'gini = 0.0\\nsamples = 40\\nvalue = [40, 0]'),\n",
       " Text(0.050724637681159424, 0.0625, 'gini = 0.0\\nsamples = 138\\nvalue = [0, 138]'),\n",
       " Text(0.08695652173913043, 0.3125, 'X[2] <= 1.5\\ngini = 0.494\\nsamples = 1848\\nvalue = [820, 1028]'),\n",
       " Text(0.07246376811594203, 0.1875, 'X[1] <= 2.0\\ngini = 0.139\\nsamples = 373\\nvalue = [345, 28]'),\n",
       " Text(0.06521739130434782, 0.0625, 'gini = 0.0\\nsamples = 28\\nvalue = [0, 28]'),\n",
       " Text(0.07971014492753623, 0.0625, 'gini = 0.0\\nsamples = 345\\nvalue = [345, 0]'),\n",
       " Text(0.10144927536231885, 0.1875, 'X[8] <= 4.605\\ngini = 0.437\\nsamples = 1475\\nvalue = [475, 1000]'),\n",
       " Text(0.09420289855072464, 0.0625, 'gini = 0.053\\nsamples = 546\\nvalue = [15, 531]'),\n",
       " Text(0.10869565217391304, 0.0625, 'gini = 0.5\\nsamples = 929\\nvalue = [460, 469]'),\n",
       " Text(0.17391304347826086, 0.4375, 'X[7] <= 6.5\\ngini = 0.077\\nsamples = 4739\\nvalue = [190, 4549]'),\n",
       " Text(0.14492753623188406, 0.3125, 'X[12] <= 8.0\\ngini = 0.012\\nsamples = 3141\\nvalue = [19, 3122]'),\n",
       " Text(0.13043478260869565, 0.1875, 'X[9] <= 5.775\\ngini = 0.003\\nsamples = 2987\\nvalue = [4, 2983]'),\n",
       " Text(0.12318840579710146, 0.0625, 'gini = 0.113\\nsamples = 50\\nvalue = [3, 47]'),\n",
       " Text(0.13768115942028986, 0.0625, 'gini = 0.001\\nsamples = 2937\\nvalue = [1, 2936]'),\n",
       " Text(0.15942028985507245, 0.1875, 'X[9] <= 6.325\\ngini = 0.176\\nsamples = 154\\nvalue = [15, 139]'),\n",
       " Text(0.15217391304347827, 0.0625, 'gini = 0.0\\nsamples = 11\\nvalue = [11, 0]'),\n",
       " Text(0.16666666666666666, 0.0625, 'gini = 0.054\\nsamples = 143\\nvalue = [4, 139]'),\n",
       " Text(0.2028985507246377, 0.3125, 'X[3] <= 1.5\\ngini = 0.191\\nsamples = 1598\\nvalue = [171, 1427]'),\n",
       " Text(0.18840579710144928, 0.1875, 'X[2] <= 4.5\\ngini = 0.456\\nsamples = 393\\nvalue = [138, 255]'),\n",
       " Text(0.18115942028985507, 0.0625, 'gini = 0.358\\nsamples = 180\\nvalue = [138, 42]'),\n",
       " Text(0.1956521739130435, 0.0625, 'gini = 0.0\\nsamples = 213\\nvalue = [0, 213]'),\n",
       " Text(0.21739130434782608, 0.1875, 'X[0] <= 12.59\\ngini = 0.053\\nsamples = 1205\\nvalue = [33, 1172]'),\n",
       " Text(0.21014492753623187, 0.0625, 'gini = 0.014\\nsamples = 1174\\nvalue = [8, 1166]'),\n",
       " Text(0.2246376811594203, 0.0625, 'gini = 0.312\\nsamples = 31\\nvalue = [25, 6]'),\n",
       " Text(0.32608695652173914, 0.5625, 'X[11] <= 10.5\\ngini = 0.44\\nsamples = 3674\\nvalue = [1199, 2475]'),\n",
       " Text(0.2898550724637681, 0.4375, 'X[5] <= 6.5\\ngini = 0.397\\nsamples = 3165\\nvalue = [863, 2302]'),\n",
       " Text(0.2608695652173913, 0.3125, 'X[2] <= 10.5\\ngini = 0.304\\nsamples = 2489\\nvalue = [466, 2023]'),\n",
       " Text(0.2463768115942029, 0.1875, 'X[14] <= 4.5\\ngini = 0.26\\nsamples = 2268\\nvalue = [348, 1920]'),\n",
       " Text(0.2391304347826087, 0.0625, 'gini = 0.0\\nsamples = 38\\nvalue = [38, 0]'),\n",
       " Text(0.2536231884057971, 0.0625, 'gini = 0.239\\nsamples = 2230\\nvalue = [310, 1920]'),\n",
       " Text(0.2753623188405797, 0.1875, 'X[9] <= 3.695\\ngini = 0.498\\nsamples = 221\\nvalue = [118, 103]'),\n",
       " Text(0.26811594202898553, 0.0625, 'gini = 0.0\\nsamples = 118\\nvalue = [118, 0]'),\n",
       " Text(0.2826086956521739, 0.0625, 'gini = 0.0\\nsamples = 103\\nvalue = [0, 103]'),\n",
       " Text(0.3188405797101449, 0.3125, 'X[2] <= 7.5\\ngini = 0.485\\nsamples = 676\\nvalue = [397, 279]'),\n",
       " Text(0.30434782608695654, 0.1875, 'X[7] <= 5.5\\ngini = 0.22\\nsamples = 349\\nvalue = [305, 44]'),\n",
       " Text(0.2971014492753623, 0.0625, 'gini = 0.042\\nsamples = 279\\nvalue = [273, 6]'),\n",
       " Text(0.3115942028985507, 0.0625, 'gini = 0.496\\nsamples = 70\\nvalue = [32, 38]'),\n",
       " Text(0.3333333333333333, 0.1875, 'X[3] <= 7.0\\ngini = 0.404\\nsamples = 327\\nvalue = [92, 235]'),\n",
       " Text(0.32608695652173914, 0.0625, 'gini = 0.168\\nsamples = 259\\nvalue = [24, 235]'),\n",
       " Text(0.34057971014492755, 0.0625, 'gini = 0.0\\nsamples = 68\\nvalue = [68, 0]'),\n",
       " Text(0.36231884057971014, 0.4375, 'X[2] <= 7.5\\ngini = 0.449\\nsamples = 509\\nvalue = [336, 173]'),\n",
       " Text(0.35507246376811596, 0.3125, 'gini = 0.0\\nsamples = 109\\nvalue = [0, 109]'),\n",
       " Text(0.3695652173913043, 0.3125, 'X[5] <= 6.5\\ngini = 0.269\\nsamples = 400\\nvalue = [336, 64]'),\n",
       " Text(0.36231884057971014, 0.1875, 'X[0] <= 8.345\\ngini = 0.077\\nsamples = 350\\nvalue = [336, 14]'),\n",
       " Text(0.35507246376811596, 0.0625, 'gini = 0.0\\nsamples = 336\\nvalue = [336, 0]'),\n",
       " Text(0.3695652173913043, 0.0625, 'gini = 0.0\\nsamples = 14\\nvalue = [0, 14]'),\n",
       " Text(0.37681159420289856, 0.1875, 'gini = 0.0\\nsamples = 50\\nvalue = [0, 50]'),\n",
       " Text(0.42391304347826086, 0.6875, 'X[9] <= 1.99\\ngini = 0.489\\nsamples = 1777\\nvalue = [1023, 754]'),\n",
       " Text(0.4166666666666667, 0.5625, 'gini = 0.0\\nsamples = 350\\nvalue = [0, 350]'),\n",
       " Text(0.4311594202898551, 0.5625, 'X[14] <= 5.5\\ngini = 0.406\\nsamples = 1427\\nvalue = [1023, 404]'),\n",
       " Text(0.42391304347826086, 0.4375, 'X[3] <= 1.5\\ngini = 0.297\\nsamples = 1250\\nvalue = [1023, 227]'),\n",
       " Text(0.4057971014492754, 0.3125, 'X[5] <= 2.5\\ngini = 0.472\\nsamples = 504\\nvalue = [312, 192]'),\n",
       " Text(0.391304347826087, 0.1875, 'X[16] <= 1.5\\ngini = 0.183\\nsamples = 265\\nvalue = [238, 27]'),\n",
       " Text(0.38405797101449274, 0.0625, 'gini = 0.0\\nsamples = 231\\nvalue = [231, 0]'),\n",
       " Text(0.39855072463768115, 0.0625, 'gini = 0.327\\nsamples = 34\\nvalue = [7, 27]'),\n",
       " Text(0.42028985507246375, 0.1875, 'X[2] <= 10.5\\ngini = 0.428\\nsamples = 239\\nvalue = [74, 165]'),\n",
       " Text(0.41304347826086957, 0.0625, 'gini = 0.177\\nsamples = 183\\nvalue = [18, 165]'),\n",
       " Text(0.427536231884058, 0.0625, 'gini = 0.0\\nsamples = 56\\nvalue = [56, 0]'),\n",
       " Text(0.4420289855072464, 0.3125, 'X[9] <= 22.98\\ngini = 0.089\\nsamples = 746\\nvalue = [711, 35]'),\n",
       " Text(0.43478260869565216, 0.1875, 'gini = 0.0\\nsamples = 709\\nvalue = [709, 0]'),\n",
       " Text(0.4492753623188406, 0.1875, 'X[7] <= 9.0\\ngini = 0.102\\nsamples = 37\\nvalue = [2, 35]'),\n",
       " Text(0.4420289855072464, 0.0625, 'gini = 0.0\\nsamples = 35\\nvalue = [0, 35]'),\n",
       " Text(0.45652173913043476, 0.0625, 'gini = 0.0\\nsamples = 2\\nvalue = [2, 0]'),\n",
       " Text(0.4384057971014493, 0.4375, 'gini = 0.0\\nsamples = 177\\nvalue = [0, 177]'),\n",
       " Text(0.6961050724637681, 0.8125, 'X[2] <= 4.5\\ngini = 0.494\\nsamples = 26977\\nvalue = [15016, 11961]'),\n",
       " Text(0.5353260869565217, 0.6875, 'X[9] <= 2.155\\ngini = 0.463\\nsamples = 11426\\nvalue = [4151, 7275]'),\n",
       " Text(0.47101449275362317, 0.5625, 'X[8] <= 2.085\\ngini = 0.238\\nsamples = 1041\\nvalue = [897, 144]'),\n",
       " Text(0.463768115942029, 0.4375, 'gini = 0.0\\nsamples = 135\\nvalue = [0, 135]'),\n",
       " Text(0.4782608695652174, 0.4375, 'X[13] <= 1.5\\ngini = 0.02\\nsamples = 906\\nvalue = [897, 9]'),\n",
       " Text(0.47101449275362317, 0.3125, 'gini = 0.0\\nsamples = 6\\nvalue = [0, 6]'),\n",
       " Text(0.4855072463768116, 0.3125, 'X[3] <= 9.0\\ngini = 0.007\\nsamples = 900\\nvalue = [897, 3]'),\n",
       " Text(0.4782608695652174, 0.1875, 'X[9] <= 1.885\\ngini = 0.004\\nsamples = 899\\nvalue = [897, 2]'),\n",
       " Text(0.47101449275362317, 0.0625, 'gini = 0.0\\nsamples = 841\\nvalue = [841, 0]'),\n",
       " Text(0.4855072463768116, 0.0625, 'gini = 0.067\\nsamples = 58\\nvalue = [56, 2]'),\n",
       " Text(0.4927536231884058, 0.1875, 'gini = 0.0\\nsamples = 1\\nvalue = [0, 1]'),\n",
       " Text(0.5996376811594203, 0.5625, 'X[5] <= 1.5\\ngini = 0.43\\nsamples = 10385\\nvalue = [3254, 7131]'),\n",
       " Text(0.5507246376811594, 0.4375, 'X[9] <= 8.47\\ngini = 0.434\\nsamples = 1776\\nvalue = [1211, 565]'),\n",
       " Text(0.5217391304347826, 0.3125, 'X[7] <= 9.5\\ngini = 0.149\\nsamples = 432\\nvalue = [35, 397]'),\n",
       " Text(0.5072463768115942, 0.1875, 'X[17] <= 2.5\\ngini = 0.077\\nsamples = 398\\nvalue = [16, 382]'),\n",
       " Text(0.5, 0.0625, 'gini = 0.051\\nsamples = 385\\nvalue = [10, 375]'),\n",
       " Text(0.5144927536231884, 0.0625, 'gini = 0.497\\nsamples = 13\\nvalue = [6, 7]'),\n",
       " Text(0.5362318840579711, 0.1875, 'X[13] <= 1.5\\ngini = 0.493\\nsamples = 34\\nvalue = [19, 15]'),\n",
       " Text(0.5289855072463768, 0.0625, 'gini = 0.0\\nsamples = 15\\nvalue = [0, 15]'),\n",
       " Text(0.5434782608695652, 0.0625, 'gini = 0.0\\nsamples = 19\\nvalue = [19, 0]'),\n",
       " Text(0.5797101449275363, 0.3125, 'X[1] <= 3.5\\ngini = 0.219\\nsamples = 1344\\nvalue = [1176, 168]'),\n",
       " Text(0.5652173913043478, 0.1875, 'X[12] <= 3.5\\ngini = 0.065\\nsamples = 1182\\nvalue = [1142, 40]'),\n",
       " Text(0.5579710144927537, 0.0625, 'gini = 0.027\\nsamples = 1158\\nvalue = [1142, 16]'),\n",
       " Text(0.572463768115942, 0.0625, 'gini = 0.0\\nsamples = 24\\nvalue = [0, 24]'),\n",
       " Text(0.5942028985507246, 0.1875, 'X[3] <= 2.0\\ngini = 0.332\\nsamples = 162\\nvalue = [34, 128]'),\n",
       " Text(0.5869565217391305, 0.0625, 'gini = 0.105\\nsamples = 36\\nvalue = [34, 2]'),\n",
       " Text(0.6014492753623188, 0.0625, 'gini = 0.0\\nsamples = 126\\nvalue = [0, 126]'),\n",
       " Text(0.6485507246376812, 0.4375, 'X[5] <= 4.5\\ngini = 0.362\\nsamples = 8609\\nvalue = [2043, 6566]'),\n",
       " Text(0.6304347826086957, 0.3125, 'X[4] <= 1.5\\ngini = 0.163\\nsamples = 4290\\nvalue = [384, 3906]'),\n",
       " Text(0.6231884057971014, 0.1875, 'X[17] <= 2.5\\ngini = 0.118\\nsamples = 4168\\nvalue = [262, 3906]'),\n",
       " Text(0.6159420289855072, 0.0625, 'gini = 0.073\\nsamples = 3714\\nvalue = [140, 3574]'),\n",
       " Text(0.6304347826086957, 0.0625, 'gini = 0.393\\nsamples = 454\\nvalue = [122, 332]'),\n",
       " Text(0.6376811594202898, 0.1875, 'gini = 0.0\\nsamples = 122\\nvalue = [122, 0]'),\n",
       " Text(0.6666666666666666, 0.3125, 'X[7] <= 9.0\\ngini = 0.473\\nsamples = 4319\\nvalue = [1659, 2660]'),\n",
       " Text(0.6521739130434783, 0.1875, 'X[5] <= 5.5\\ngini = 0.414\\nsamples = 3656\\nvalue = [1071, 2585]'),\n",
       " Text(0.644927536231884, 0.0625, 'gini = 0.391\\nsamples = 729\\nvalue = [535, 194]'),\n",
       " Text(0.6594202898550725, 0.0625, 'gini = 0.299\\nsamples = 2927\\nvalue = [536, 2391]'),\n",
       " Text(0.6811594202898551, 0.1875, 'X[8] <= 4.46\\ngini = 0.201\\nsamples = 663\\nvalue = [588, 75]'),\n",
       " Text(0.6739130434782609, 0.0625, 'gini = 0.026\\nsamples = 76\\nvalue = [1, 75]'),\n",
       " Text(0.6884057971014492, 0.0625, 'gini = 0.0\\nsamples = 587\\nvalue = [587, 0]'),\n",
       " Text(0.8568840579710145, 0.6875, 'X[9] <= 8.865\\ngini = 0.421\\nsamples = 15551\\nvalue = [10865, 4686]'),\n",
       " Text(0.7789855072463768, 0.5625, 'X[11] <= 1.5\\ngini = 0.492\\nsamples = 5991\\nvalue = [2619, 3372]'),\n",
       " Text(0.7318840579710145, 0.4375, 'X[8] <= 3.325\\ngini = 0.31\\nsamples = 1497\\nvalue = [1210, 287]'),\n",
       " Text(0.717391304347826, 0.3125, 'X[7] <= 2.0\\ngini = 0.318\\nsamples = 298\\nvalue = [59, 239]'),\n",
       " Text(0.7101449275362319, 0.1875, 'X[0] <= 4.305\\ngini = 0.098\\nsamples = 252\\nvalue = [13, 239]'),\n",
       " Text(0.7028985507246377, 0.0625, 'gini = 0.0\\nsamples = 239\\nvalue = [0, 239]'),\n",
       " Text(0.717391304347826, 0.0625, 'gini = 0.0\\nsamples = 13\\nvalue = [13, 0]'),\n",
       " Text(0.7246376811594203, 0.1875, 'gini = 0.0\\nsamples = 46\\nvalue = [46, 0]'),\n",
       " Text(0.7463768115942029, 0.3125, 'X[15] <= 7.5\\ngini = 0.077\\nsamples = 1199\\nvalue = [1151, 48]'),\n",
       " Text(0.7391304347826086, 0.1875, 'gini = 0.0\\nsamples = 27\\nvalue = [0, 27]'),\n",
       " Text(0.7536231884057971, 0.1875, 'X[12] <= 8.5\\ngini = 0.035\\nsamples = 1172\\nvalue = [1151, 21]'),\n",
       " Text(0.7463768115942029, 0.0625, 'gini = 0.014\\nsamples = 1131\\nvalue = [1123, 8]'),\n",
       " Text(0.7608695652173914, 0.0625, 'gini = 0.433\\nsamples = 41\\nvalue = [28, 13]'),\n",
       " Text(0.8260869565217391, 0.4375, 'X[8] <= 3.785\\ngini = 0.43\\nsamples = 4494\\nvalue = [1409, 3085]'),\n",
       " Text(0.7971014492753623, 0.3125, 'X[1] <= 2.0\\ngini = 0.068\\nsamples = 1313\\nvalue = [46, 1267]'),\n",
       " Text(0.782608695652174, 0.1875, 'X[0] <= 1.775\\ngini = 0.373\\nsamples = 109\\nvalue = [27, 82]'),\n",
       " Text(0.7753623188405797, 0.0625, 'gini = 0.0\\nsamples = 68\\nvalue = [0, 68]'),\n",
       " Text(0.7898550724637681, 0.0625, 'gini = 0.45\\nsamples = 41\\nvalue = [27, 14]'),\n",
       " Text(0.8115942028985508, 0.1875, 'X[4] <= 1.5\\ngini = 0.031\\nsamples = 1204\\nvalue = [19, 1185]'),\n",
       " Text(0.8043478260869565, 0.0625, 'gini = 0.0\\nsamples = 997\\nvalue = [0, 997]'),\n",
       " Text(0.8188405797101449, 0.0625, 'gini = 0.167\\nsamples = 207\\nvalue = [19, 188]'),\n",
       " Text(0.855072463768116, 0.3125, 'X[7] <= 7.5\\ngini = 0.49\\nsamples = 3181\\nvalue = [1363, 1818]'),\n",
       " Text(0.8405797101449275, 0.1875, 'X[7] <= 3.5\\ngini = 0.434\\nsamples = 2252\\nvalue = [716, 1536]'),\n",
       " Text(0.8333333333333334, 0.0625, 'gini = 0.498\\nsamples = 1336\\nvalue = [712, 624]'),\n",
       " Text(0.8478260869565217, 0.0625, 'gini = 0.009\\nsamples = 916\\nvalue = [4, 912]'),\n",
       " Text(0.8695652173913043, 0.1875, 'X[13] <= 1.5\\ngini = 0.423\\nsamples = 929\\nvalue = [647, 282]'),\n",
       " Text(0.8623188405797102, 0.0625, 'gini = 0.0\\nsamples = 170\\nvalue = [0, 170]'),\n",
       " Text(0.8768115942028986, 0.0625, 'gini = 0.252\\nsamples = 759\\nvalue = [647, 112]'),\n",
       " Text(0.9347826086956522, 0.5625, 'X[8] <= 2.03\\ngini = 0.237\\nsamples = 9560\\nvalue = [8246, 1314]'),\n",
       " Text(0.927536231884058, 0.4375, 'gini = 0.0\\nsamples = 187\\nvalue = [0, 187]'),\n",
       " Text(0.9420289855072463, 0.4375, 'X[2] <= 7.5\\ngini = 0.212\\nsamples = 9373\\nvalue = [8246, 1127]'),\n",
       " Text(0.9130434782608695, 0.3125, 'X[1] <= 3.5\\ngini = 0.09\\nsamples = 6764\\nvalue = [6445, 319]'),\n",
       " Text(0.8985507246376812, 0.1875, 'X[9] <= 27.275\\ngini = 0.017\\nsamples = 5265\\nvalue = [5221, 44]'),\n",
       " Text(0.8913043478260869, 0.0625, 'gini = 0.009\\nsamples = 5134\\nvalue = [5112, 22]'),\n",
       " Text(0.9057971014492754, 0.0625, 'gini = 0.279\\nsamples = 131\\nvalue = [109, 22]'),\n",
       " Text(0.927536231884058, 0.1875, 'X[9] <= 13.95\\ngini = 0.3\\nsamples = 1499\\nvalue = [1224, 275]'),\n",
       " Text(0.9202898550724637, 0.0625, 'gini = 0.277\\nsamples = 301\\nvalue = [50, 251]'),\n",
       " Text(0.9347826086956522, 0.0625, 'gini = 0.039\\nsamples = 1198\\nvalue = [1174, 24]'),\n",
       " Text(0.9710144927536232, 0.3125, 'X[7] <= 6.5\\ngini = 0.428\\nsamples = 2609\\nvalue = [1801, 808]'),\n",
       " Text(0.9565217391304348, 0.1875, 'X[11] <= 4.5\\ngini = 0.474\\nsamples = 1145\\nvalue = [443, 702]'),\n",
       " Text(0.9492753623188406, 0.0625, 'gini = 0.497\\nsamples = 788\\nvalue = [425, 363]'),\n",
       " Text(0.9637681159420289, 0.0625, 'gini = 0.096\\nsamples = 357\\nvalue = [18, 339]'),\n",
       " Text(0.9855072463768116, 0.1875, 'X[5] <= 6.5\\ngini = 0.134\\nsamples = 1464\\nvalue = [1358, 106]'),\n",
       " Text(0.9782608695652174, 0.0625, 'gini = 0.001\\nsamples = 1359\\nvalue = [1358, 1]'),\n",
       " Text(0.9927536231884058, 0.0625, 'gini = 0.0\\nsamples = 105\\nvalue = [0, 105]')]"
      ]
     },
     "execution_count": 53,
     "metadata": {},
     "output_type": "execute_result"
    },
    {
     "data": {
      "image/png": "[encoded data removed]",
      "text/plain": [
       "<Figure size 720x576 with 1 Axes>"
      ]
     },
     "metadata": {
      "needs_background": "light"
     },
     "output_type": "display_data"
    }
   ],
   "source": [
    "from sklearn import tree\n",
    "\n",
    "plt.figure(figsize=(10,8))\n",
    "tree.plot_tree(gini.fit(x_train,y_train))"
   ]
  },
  {
   "cell_type": "markdown",
   "id": "50f9de9a",
   "metadata": {},
   "source": [
    "# 7. Decision Tree using entropy"
   ]
  },
  {
   "cell_type": "code",
   "execution_count": 54,
   "id": "f0c75353",
   "metadata": {},
   "outputs": [],
   "source": [
    "entropy=DecisionTreeClassifier(criterion='entropy', max_depth=7,random_state=101)"
   ]
  },
  {
   "cell_type": "code",
   "execution_count": 55,
   "id": "307a73ce",
   "metadata": {},
   "outputs": [
    {
     "data": {
      "text/plain": [
       "DecisionTreeClassifier(criterion='entropy', max_depth=7, random_state=101)"
      ]
     },
     "execution_count": 55,
     "metadata": {},
     "output_type": "execute_result"
    }
   ],
   "source": [
    "# fitting the model using training datas\n",
    "\n",
    "entropy.fit(x_train,y_train)"
   ]
  },
  {
   "cell_type": "code",
   "execution_count": 56,
   "id": "a83d3bb9",
   "metadata": {},
   "outputs": [],
   "source": [
    "entropy_prediction=entropy.predict(x_test)"
   ]
  },
  {
   "cell_type": "code",
   "execution_count": 57,
   "id": "57a7362c",
   "metadata": {},
   "outputs": [
    {
     "name": "stdout",
     "output_type": "stream",
     "text": [
      "test accuracy scorre: 0.8936\n"
     ]
    }
   ],
   "source": [
    "print('test accuracy scorre: {:.4f}'.format(accuracy_score(y_test,entropy_prediction)))"
   ]
  },
  {
   "cell_type": "code",
   "execution_count": 58,
   "id": "72151704",
   "metadata": {},
   "outputs": [
    {
     "data": {
      "text/plain": [
       "stem-width              0.254204\n",
       "cap-surface             0.148284\n",
       "gill-attachment         0.123278\n",
       "gill-spacing            0.112048\n",
       "stem-height             0.095911\n",
       "gill-color              0.057641\n",
       "does-bruise-or-bleed    0.034827\n",
       "stem-color              0.034220\n",
       "ring-type               0.033381\n",
       "season                  0.030007\n",
       "cap-shape               0.019516\n",
       "cap-color               0.018865\n",
       "habitat                 0.016283\n",
       "cap-diameter            0.011192\n",
       "has-ring                0.005288\n",
       "spore-print-color       0.005055\n",
       "stem-root               0.000000\n",
       "veil-color              0.000000\n",
       "dtype: float64"
      ]
     },
     "execution_count": 58,
     "metadata": {},
     "output_type": "execute_result"
    }
   ],
   "source": [
    " #view the feature scores\n",
    "\n",
    "feature_scores_1 = pd.Series(entropy.feature_importances_, index=x_train.columns).sort_values(ascending=False)\n",
    "\n",
    "feature_scores_1"
   ]
  },
  {
   "cell_type": "markdown",
   "id": "6a2f0462",
   "metadata": {},
   "source": [
    "## 7.1 Visualizing important features for entropy"
   ]
  },
  {
   "cell_type": "code",
   "execution_count": 59,
   "id": "9bb16578",
   "metadata": {},
   "outputs": [
    {
     "data": {
      "image/png": "[encoded data removed]",
      "text/plain": [
       "<Figure size 432x288 with 1 Axes>"
      ]
     },
     "metadata": {
      "needs_background": "light"
     },
     "output_type": "display_data"
    }
   ],
   "source": [
    "# Creating a seaborn bar plot\n",
    "\n",
    "sns.barplot(x=feature_scores_1, y=feature_scores_1.index)\n",
    "\n",
    "\n",
    "\n",
    "# Add labels to the graph\n",
    "\n",
    "plt.xlabel('Entropy Feature Importance Score')\n",
    "\n",
    "plt.ylabel('Features')\n",
    "\n",
    "\n",
    "\n",
    "# Add title to the graph\n",
    "\n",
    "plt.title(\"Visualizing Important Features\")\n",
    "\n",
    "# Visualize the graph\n",
    "\n",
    "plt.show()"
   ]
  },
  {
   "cell_type": "markdown",
   "id": "051cb00f",
   "metadata": {},
   "source": [
    "## 7.2 summarizing the performance of a classification algorithm using confusion matrix for entropy"
   ]
  },
  {
   "cell_type": "code",
   "execution_count": 60,
   "id": "0254f596",
   "metadata": {},
   "outputs": [
    {
     "name": "stdout",
     "output_type": "stream",
     "text": [
      "Confusion matrix\n",
      "\n",
      " [[5044 1039]\n",
      " [ 443 7407]]\n"
     ]
    }
   ],
   "source": [
    "cm_1=confusion_matrix(y_test,entropy_prediction)\n",
    "print('Confusion matrix\\n\\n', cm_1)\n"
   ]
  },
  {
   "cell_type": "markdown",
   "id": "d1354ca6",
   "metadata": {},
   "source": [
    "## 7.3 Classification Report for entropy index"
   ]
  },
  {
   "cell_type": "code",
   "execution_count": 61,
   "id": "e79fb99c",
   "metadata": {},
   "outputs": [
    {
     "name": "stdout",
     "output_type": "stream",
     "text": [
      "              precision    recall  f1-score   support\n",
      "\n",
      "           e       0.92      0.83      0.87      6083\n",
      "           p       0.88      0.94      0.91      7850\n",
      "\n",
      "    accuracy                           0.89     13933\n",
      "   macro avg       0.90      0.89      0.89     13933\n",
      "weighted avg       0.90      0.89      0.89     13933\n",
      "\n"
     ]
    }
   ],
   "source": [
    "from sklearn.metrics import classification_report\n",
    "\n",
    "print(classification_report(y_test, entropy_prediction))"
   ]
  },
  {
   "cell_type": "markdown",
   "id": "4318cc76",
   "metadata": {},
   "source": [
    "## 7.4 Plot the tree for entropy"
   ]
  },
  {
   "cell_type": "code",
   "execution_count": 62,
   "id": "424162a2",
   "metadata": {},
   "outputs": [
    {
     "data": {
      "text/plain": [
       "[Text(0.45050904977375567, 0.9375, 'X[6] <= 1.5\\nentropy = 0.989\\nsamples = 41796\\nvalue = [18326, 23470]'),\n",
       " Text(0.251131221719457, 0.8125, 'X[17] <= 2.5\\nentropy = 0.766\\nsamples = 14819\\nvalue = [3310, 11509]'),\n",
       " Text(0.15384615384615385, 0.6875, 'X[4] <= 1.5\\nentropy = 0.67\\nsamples = 13042\\nvalue = [2287, 10755]'),\n",
       " Text(0.14479638009049775, 0.5625, 'X[2] <= 6.5\\nentropy = 0.73\\nsamples = 11196\\nvalue = [2287, 8909]'),\n",
       " Text(0.07239819004524888, 0.4375, 'X[9] <= 2.585\\nentropy = 0.572\\nsamples = 8028\\nvalue = [1088, 6940]'),\n",
       " Text(0.03619909502262444, 0.3125, 'X[0] <= 2.755\\nentropy = 0.086\\nsamples = 2301\\nvalue = [25, 2276]'),\n",
       " Text(0.01809954751131222, 0.1875, 'X[1] <= 5.5\\nentropy = 0.036\\nsamples = 2106\\nvalue = [8, 2098]'),\n",
       " Text(0.00904977375565611, 0.0625, 'entropy = 0.016\\nsamples = 2035\\nvalue = [3, 2032]'),\n",
       " Text(0.027149321266968326, 0.0625, 'entropy = 0.367\\nsamples = 71\\nvalue = [5, 66]'),\n",
       " Text(0.05429864253393665, 0.1875, 'X[2] <= 1.5\\nentropy = 0.427\\nsamples = 195\\nvalue = [17, 178]'),\n",
       " Text(0.04524886877828054, 0.0625, 'entropy = 0.871\\nsamples = 24\\nvalue = [17, 7]'),\n",
       " Text(0.06334841628959276, 0.0625, 'entropy = 0.0\\nsamples = 171\\nvalue = [0, 171]'),\n",
       " Text(0.1085972850678733, 0.3125, 'X[9] <= 5.325\\nentropy = 0.692\\nsamples = 5727\\nvalue = [1063, 4664]'),\n",
       " Text(0.09049773755656108, 0.1875, 'X[7] <= 6.5\\nentropy = 0.963\\nsamples = 2210\\nvalue = [857, 1353]'),\n",
       " Text(0.08144796380090498, 0.0625, 'entropy = 0.994\\nsamples = 1864\\nvalue = [850, 1014]'),\n",
       " Text(0.09954751131221719, 0.0625, 'entropy = 0.143\\nsamples = 346\\nvalue = [7, 339]'),\n",
       " Text(0.12669683257918551, 0.1875, 'X[2] <= 3.5\\nentropy = 0.322\\nsamples = 3517\\nvalue = [206, 3311]'),\n",
       " Text(0.11764705882352941, 0.0625, 'entropy = 0.0\\nsamples = 1739\\nvalue = [0, 1739]'),\n",
       " Text(0.13574660633484162, 0.0625, 'entropy = 0.517\\nsamples = 1778\\nvalue = [206, 1572]'),\n",
       " Text(0.2171945701357466, 0.4375, 'X[5] <= 4.5\\nentropy = 0.957\\nsamples = 3168\\nvalue = [1199, 1969]'),\n",
       " Text(0.18099547511312217, 0.3125, 'X[16] <= 1.5\\nentropy = 0.732\\nsamples = 1653\\nvalue = [339, 1314]'),\n",
       " Text(0.16289592760180996, 0.1875, 'X[5] <= 2.5\\nentropy = 0.968\\nsamples = 779\\nvalue = [308, 471]'),\n",
       " Text(0.15384615384615385, 0.0625, 'entropy = 0.947\\nsamples = 444\\nvalue = [282, 162]'),\n",
       " Text(0.17194570135746606, 0.0625, 'entropy = 0.394\\nsamples = 335\\nvalue = [26, 309]'),\n",
       " Text(0.19909502262443438, 0.1875, 'X[2] <= 10.5\\nentropy = 0.221\\nsamples = 874\\nvalue = [31, 843]'),\n",
       " Text(0.19004524886877827, 0.0625, 'entropy = 0.0\\nsamples = 787\\nvalue = [0, 787]'),\n",
       " Text(0.2081447963800905, 0.0625, 'entropy = 0.94\\nsamples = 87\\nvalue = [31, 56]'),\n",
       " Text(0.25339366515837103, 0.3125, 'X[9] <= 16.25\\nentropy = 0.987\\nsamples = 1515\\nvalue = [860, 655]'),\n",
       " Text(0.23529411764705882, 0.1875, 'X[9] <= 8.455\\nentropy = 0.912\\nsamples = 1246\\nvalue = [838, 408]'),\n",
       " Text(0.22624434389140272, 0.0625, 'entropy = 0.973\\nsamples = 598\\nvalue = [241, 357]'),\n",
       " Text(0.24434389140271492, 0.0625, 'entropy = 0.398\\nsamples = 648\\nvalue = [597, 51]'),\n",
       " Text(0.27149321266968324, 0.1875, 'X[13] <= 1.5\\nentropy = 0.408\\nsamples = 269\\nvalue = [22, 247]'),\n",
       " Text(0.26244343891402716, 0.0625, 'entropy = 0.0\\nsamples = 22\\nvalue = [22, 0]'),\n",
       " Text(0.28054298642533937, 0.0625, 'entropy = 0.0\\nsamples = 247\\nvalue = [0, 247]'),\n",
       " Text(0.16289592760180996, 0.5625, 'entropy = 0.0\\nsamples = 1846\\nvalue = [0, 1846]'),\n",
       " Text(0.34841628959276016, 0.6875, 'X[9] <= 1.99\\nentropy = 0.983\\nsamples = 1777\\nvalue = [1023, 754]'),\n",
       " Text(0.3393665158371041, 0.5625, 'entropy = 0.0\\nsamples = 350\\nvalue = [0, 350]'),\n",
       " Text(0.3574660633484163, 0.5625, 'X[14] <= 5.5\\nentropy = 0.86\\nsamples = 1427\\nvalue = [1023, 404]'),\n",
       " Text(0.34841628959276016, 0.4375, 'X[3] <= 1.5\\nentropy = 0.684\\nsamples = 1250\\nvalue = [1023, 227]'),\n",
       " Text(0.3257918552036199, 0.3125, 'X[9] <= 4.775\\nentropy = 0.959\\nsamples = 504\\nvalue = [312, 192]'),\n",
       " Text(0.3076923076923077, 0.1875, 'X[8] <= 7.375\\nentropy = 0.089\\nsamples = 177\\nvalue = [175, 2]'),\n",
       " Text(0.2986425339366516, 0.0625, 'entropy = 0.0\\nsamples = 174\\nvalue = [174, 0]'),\n",
       " Text(0.3167420814479638, 0.0625, 'entropy = 0.918\\nsamples = 3\\nvalue = [1, 2]'),\n",
       " Text(0.3438914027149321, 0.1875, 'X[5] <= 2.5\\nentropy = 0.981\\nsamples = 327\\nvalue = [137, 190]'),\n",
       " Text(0.334841628959276, 0.0625, 'entropy = 0.666\\nsamples = 144\\nvalue = [119, 25]'),\n",
       " Text(0.35294117647058826, 0.0625, 'entropy = 0.464\\nsamples = 183\\nvalue = [18, 165]'),\n",
       " Text(0.37104072398190047, 0.3125, 'X[9] <= 22.98\\nentropy = 0.273\\nsamples = 746\\nvalue = [711, 35]'),\n",
       " Text(0.36199095022624433, 0.1875, 'entropy = 0.0\\nsamples = 709\\nvalue = [709, 0]'),\n",
       " Text(0.38009049773755654, 0.1875, 'X[5] <= 3.5\\nentropy = 0.303\\nsamples = 37\\nvalue = [2, 35]'),\n",
       " Text(0.37104072398190047, 0.0625, 'entropy = 0.0\\nsamples = 2\\nvalue = [2, 0]'),\n",
       " Text(0.3891402714932127, 0.0625, 'entropy = 0.0\\nsamples = 35\\nvalue = [0, 35]'),\n",
       " Text(0.3665158371040724, 0.4375, 'entropy = 0.0\\nsamples = 177\\nvalue = [0, 177]'),\n",
       " Text(0.6498868778280543, 0.8125, 'X[2] <= 4.5\\nentropy = 0.991\\nsamples = 26977\\nvalue = [15016, 11961]'),\n",
       " Text(0.4660633484162896, 0.6875, 'X[9] <= 2.155\\nentropy = 0.945\\nsamples = 11426\\nvalue = [4151, 7275]'),\n",
       " Text(0.3936651583710407, 0.5625, 'X[8] <= 2.085\\nentropy = 0.58\\nsamples = 1041\\nvalue = [897, 144]'),\n",
       " Text(0.38461538461538464, 0.4375, 'entropy = 0.0\\nsamples = 135\\nvalue = [0, 135]'),\n",
       " Text(0.40271493212669685, 0.4375, 'X[13] <= 1.5\\nentropy = 0.08\\nsamples = 906\\nvalue = [897, 9]'),\n",
       " Text(0.3936651583710407, 0.3125, 'entropy = 0.0\\nsamples = 6\\nvalue = [0, 6]'),\n",
       " Text(0.4117647058823529, 0.3125, 'X[9] <= 1.885\\nentropy = 0.032\\nsamples = 900\\nvalue = [897, 3]'),\n",
       " Text(0.40271493212669685, 0.1875, 'entropy = 0.0\\nsamples = 841\\nvalue = [841, 0]'),\n",
       " Text(0.42081447963800905, 0.1875, 'X[11] <= 2.5\\nentropy = 0.29\\nsamples = 59\\nvalue = [56, 3]'),\n",
       " Text(0.4117647058823529, 0.0625, 'entropy = 0.0\\nsamples = 54\\nvalue = [54, 0]'),\n",
       " Text(0.4298642533936652, 0.0625, 'entropy = 0.971\\nsamples = 5\\nvalue = [2, 3]'),\n",
       " Text(0.5384615384615384, 0.5625, 'X[5] <= 1.5\\nentropy = 0.897\\nsamples = 10385\\nvalue = [3254, 7131]'),\n",
       " Text(0.4796380090497738, 0.4375, 'X[9] <= 8.47\\nentropy = 0.902\\nsamples = 1776\\nvalue = [1211, 565]'),\n",
       " Text(0.4479638009049774, 0.3125, 'X[8] <= 5.57\\nentropy = 0.406\\nsamples = 432\\nvalue = [35, 397]'),\n",
       " Text(0.43891402714932126, 0.1875, 'entropy = 0.0\\nsamples = 312\\nvalue = [0, 312]'),\n",
       " Text(0.45701357466063347, 0.1875, 'X[9] <= 3.47\\nentropy = 0.871\\nsamples = 120\\nvalue = [35, 85]'),\n",
       " Text(0.4479638009049774, 0.0625, 'entropy = 0.959\\nsamples = 55\\nvalue = [34, 21]'),\n",
       " Text(0.4660633484162896, 0.0625, 'entropy = 0.115\\nsamples = 65\\nvalue = [1, 64]'),\n",
       " Text(0.5113122171945701, 0.3125, 'X[3] <= 2.0\\nentropy = 0.544\\nsamples = 1344\\nvalue = [1176, 168]'),\n",
       " Text(0.49321266968325794, 0.1875, 'X[7] <= 5.0\\nentropy = 0.021\\nsamples = 1015\\nvalue = [1013, 2]'),\n",
       " Text(0.4841628959276018, 0.0625, 'entropy = 0.0\\nsamples = 1013\\nvalue = [1013, 0]'),\n",
       " Text(0.502262443438914, 0.0625, 'entropy = 0.0\\nsamples = 2\\nvalue = [0, 2]'),\n",
       " Text(0.5294117647058824, 0.1875, 'X[16] <= 1.5\\nentropy = 1.0\\nsamples = 329\\nvalue = [163, 166]'),\n",
       " Text(0.5203619909502263, 0.0625, 'entropy = 0.607\\nsamples = 195\\nvalue = [29, 166]'),\n",
       " Text(0.5384615384615384, 0.0625, 'entropy = 0.0\\nsamples = 134\\nvalue = [134, 0]'),\n",
       " Text(0.5972850678733032, 0.4375, 'X[5] <= 4.5\\nentropy = 0.791\\nsamples = 8609\\nvalue = [2043, 6566]'),\n",
       " Text(0.5746606334841629, 0.3125, 'X[4] <= 1.5\\nentropy = 0.435\\nsamples = 4290\\nvalue = [384, 3906]'),\n",
       " Text(0.5656108597285068, 0.1875, 'X[9] <= 3.395\\nentropy = 0.339\\nsamples = 4168\\nvalue = [262, 3906]'),\n",
       " Text(0.5565610859728507, 0.0625, 'entropy = 0.753\\nsamples = 684\\nvalue = [148, 536]'),\n",
       " Text(0.5746606334841629, 0.0625, 'entropy = 0.208\\nsamples = 3484\\nvalue = [114, 3370]'),\n",
       " Text(0.583710407239819, 0.1875, 'entropy = 0.0\\nsamples = 122\\nvalue = [122, 0]'),\n",
       " Text(0.6199095022624435, 0.3125, 'X[7] <= 9.0\\nentropy = 0.961\\nsamples = 4319\\nvalue = [1659, 2660]'),\n",
       " Text(0.6018099547511312, 0.1875, 'X[5] <= 6.5\\nentropy = 0.872\\nsamples = 3656\\nvalue = [1071, 2585]'),\n",
       " Text(0.5927601809954751, 0.0625, 'entropy = 0.999\\nsamples = 2074\\nvalue = [993, 1081]'),\n",
       " Text(0.6108597285067874, 0.0625, 'entropy = 0.283\\nsamples = 1582\\nvalue = [78, 1504]'),\n",
       " Text(0.6380090497737556, 0.1875, 'X[8] <= 4.46\\nentropy = 0.509\\nsamples = 663\\nvalue = [588, 75]'),\n",
       " Text(0.6289592760180995, 0.0625, 'entropy = 0.101\\nsamples = 76\\nvalue = [1, 75]'),\n",
       " Text(0.6470588235294118, 0.0625, 'entropy = 0.0\\nsamples = 587\\nvalue = [587, 0]'),\n",
       " Text(0.833710407239819, 0.6875, 'X[9] <= 9.375\\nentropy = 0.883\\nsamples = 15551\\nvalue = [10865, 4686]'),\n",
       " Text(0.748868778280543, 0.5625, 'X[11] <= 1.5\\nentropy = 0.994\\nsamples = 6502\\nvalue = [2959, 3543]'),\n",
       " Text(0.7013574660633484, 0.4375, 'X[8] <= 3.325\\nentropy = 0.672\\nsamples = 1677\\nvalue = [1381, 296]'),\n",
       " Text(0.6832579185520362, 0.3125, 'X[7] <= 2.0\\nentropy = 0.732\\nsamples = 302\\nvalue = [62, 240]'),\n",
       " Text(0.6742081447963801, 0.1875, 'X[2] <= 8.0\\nentropy = 0.292\\nsamples = 253\\nvalue = [13, 240]'),\n",
       " Text(0.665158371040724, 0.0625, 'entropy = 0.0\\nsamples = 240\\nvalue = [0, 240]'),\n",
       " Text(0.6832579185520362, 0.0625, 'entropy = 0.0\\nsamples = 13\\nvalue = [13, 0]'),\n",
       " Text(0.6923076923076923, 0.1875, 'entropy = 0.0\\nsamples = 49\\nvalue = [49, 0]'),\n",
       " Text(0.7194570135746606, 0.3125, 'X[15] <= 7.5\\nentropy = 0.246\\nsamples = 1375\\nvalue = [1319, 56]'),\n",
       " Text(0.7104072398190046, 0.1875, 'entropy = 0.0\\nsamples = 29\\nvalue = [0, 29]'),\n",
       " Text(0.7285067873303167, 0.1875, 'X[8] <= 3.795\\nentropy = 0.142\\nsamples = 1346\\nvalue = [1319, 27]'),\n",
       " Text(0.7194570135746606, 0.0625, 'entropy = 0.502\\nsamples = 244\\nvalue = [217, 27]'),\n",
       " Text(0.7375565610859729, 0.0625, 'entropy = 0.0\\nsamples = 1102\\nvalue = [1102, 0]'),\n",
       " Text(0.7963800904977375, 0.4375, 'X[8] <= 3.675\\nentropy = 0.912\\nsamples = 4825\\nvalue = [1578, 3247]'),\n",
       " Text(0.7737556561085973, 0.3125, 'X[1] <= 3.5\\nentropy = 0.187\\nsamples = 1229\\nvalue = [35, 1194]'),\n",
       " Text(0.7647058823529411, 0.1875, 'X[11] <= 8.5\\nentropy = 0.546\\nsamples = 278\\nvalue = [35, 243]'),\n",
       " Text(0.755656108597285, 0.0625, 'entropy = 0.365\\nsamples = 258\\nvalue = [18, 240]'),\n",
       " Text(0.7737556561085973, 0.0625, 'entropy = 0.61\\nsamples = 20\\nvalue = [17, 3]'),\n",
       " Text(0.7828054298642534, 0.1875, 'entropy = 0.0\\nsamples = 951\\nvalue = [0, 951]'),\n",
       " Text(0.8190045248868778, 0.3125, 'X[2] <= 9.0\\nentropy = 0.985\\nsamples = 3596\\nvalue = [1543, 2053]'),\n",
       " Text(0.8009049773755657, 0.1875, 'X[14] <= 6.5\\nentropy = 0.978\\nsamples = 2018\\nvalue = [1184, 834]'),\n",
       " Text(0.7918552036199095, 0.0625, 'entropy = 0.845\\nsamples = 1628\\nvalue = [1184, 444]'),\n",
       " Text(0.8099547511312217, 0.0625, 'entropy = 0.0\\nsamples = 390\\nvalue = [0, 390]'),\n",
       " Text(0.8371040723981901, 0.1875, 'X[0] <= 4.665\\nentropy = 0.774\\nsamples = 1578\\nvalue = [359, 1219]'),\n",
       " Text(0.8280542986425339, 0.0625, 'entropy = 0.951\\nsamples = 963\\nvalue = [357, 606]'),\n",
       " Text(0.8461538461538461, 0.0625, 'entropy = 0.032\\nsamples = 615\\nvalue = [2, 613]'),\n",
       " Text(0.918552036199095, 0.5625, 'X[8] <= 2.03\\nentropy = 0.547\\nsamples = 9049\\nvalue = [7906, 1143]'),\n",
       " Text(0.9095022624434389, 0.4375, 'entropy = 0.0\\nsamples = 187\\nvalue = [0, 187]'),\n",
       " Text(0.9276018099547512, 0.4375, 'X[2] <= 7.5\\nentropy = 0.493\\nsamples = 8862\\nvalue = [7906, 956]'),\n",
       " Text(0.8914027149321267, 0.3125, 'X[1] <= 3.5\\nentropy = 0.273\\nsamples = 6473\\nvalue = [6170, 303]'),\n",
       " Text(0.8733031674208145, 0.1875, 'X[5] <= 6.5\\nentropy = 0.056\\nsamples = 5003\\nvalue = [4971, 32]'),\n",
       " Text(0.8642533936651584, 0.0625, 'entropy = 0.003\\nsamples = 4550\\nvalue = [4549, 1]'),\n",
       " Text(0.8823529411764706, 0.0625, 'entropy = 0.36\\nsamples = 453\\nvalue = [422, 31]'),\n",
       " Text(0.9095022624434389, 0.1875, 'X[9] <= 13.95\\nentropy = 0.69\\nsamples = 1470\\nvalue = [1199, 271]'),\n",
       " Text(0.9004524886877828, 0.0625, 'entropy = 0.443\\nsamples = 272\\nvalue = [25, 247]'),\n",
       " Text(0.918552036199095, 0.0625, 'entropy = 0.142\\nsamples = 1198\\nvalue = [1174, 24]'),\n",
       " Text(0.9638009049773756, 0.3125, 'X[7] <= 6.5\\nentropy = 0.846\\nsamples = 2389\\nvalue = [1736, 653]'),\n",
       " Text(0.9457013574660633, 0.1875, 'X[2] <= 10.5\\nentropy = 0.971\\nsamples = 959\\nvalue = [383, 576]'),\n",
       " Text(0.9366515837104072, 0.0625, 'entropy = 1.0\\nsamples = 762\\nvalue = [383, 379]'),\n",
       " Text(0.9547511312217195, 0.0625, 'entropy = 0.0\\nsamples = 197\\nvalue = [0, 197]'),\n",
       " Text(0.9819004524886877, 0.1875, 'X[5] <= 6.5\\nentropy = 0.303\\nsamples = 1430\\nvalue = [1353, 77]'),\n",
       " Text(0.9728506787330317, 0.0625, 'entropy = 0.0\\nsamples = 1353\\nvalue = [1353, 0]'),\n",
       " Text(0.9909502262443439, 0.0625, 'entropy = 0.0\\nsamples = 77\\nvalue = [0, 77]')]"
      ]
     },
     "execution_count": 62,
     "metadata": {},
     "output_type": "execute_result"
    },
    {
     "data": {
      "image/png": "[encoded data removed]",
      "text/plain": [
       "<Figure size 720x576 with 1 Axes>"
      ]
     },
     "metadata": {
      "needs_background": "light"
     },
     "output_type": "display_data"
    }
   ],
   "source": [
    "plt.figure(figsize=(10,8))\n",
    "tree.plot_tree(entropy.fit(x_train,y_train))"
   ]
  },
  {
   "cell_type": "markdown",
   "id": "6683d4a1",
   "metadata": {},
   "source": [
    "# 8. Conclusion"
   ]
  },
  {
   "cell_type": "code",
   "execution_count": 63,
   "id": "6d697e9f",
   "metadata": {},
   "outputs": [],
   "source": [
    "from sklearn.metrics import f1_score"
   ]
  },
  {
   "cell_type": "markdown",
   "id": "94c339ef",
   "metadata": {},
   "source": [
    "## 8.1 F1 score of edible(e) mushrooms."
   ]
  },
  {
   "cell_type": "code",
   "execution_count": 64,
   "id": "ab621ffd",
   "metadata": {},
   "outputs": [
    {
     "name": "stdout",
     "output_type": "stream",
     "text": [
      "Gini Index F1 Score:  0.9047381546134664\n",
      "Entropy F1 Score:  0.8719101123595505\n"
     ]
    }
   ],
   "source": [
    "f1_score_gini=f1_score(y_test,gini_prediction,pos_label = 'e')\n",
    "f1_score_entropy=f1_score(y_test,entropy_prediction,pos_label = 'e')\n",
    "\n",
    "print('Gini Index F1 Score: ',f1_score_gini)\n",
    "print('Entropy F1 Score: ',f1_score_entropy)"
   ]
  },
  {
   "cell_type": "markdown",
   "id": "6a5ca115",
   "metadata": {},
   "source": [
    "## 8.2 F1 score of poisonous(p) mushrooms"
   ]
  },
  {
   "cell_type": "code",
   "execution_count": 65,
   "id": "9389ec90",
   "metadata": {},
   "outputs": [
    {
     "name": "stdout",
     "output_type": "stream",
     "text": [
      "Gini Index F1 Score:  0.927633240717353\n",
      "Entropy F1 Score:  0.9090574374079529\n"
     ]
    }
   ],
   "source": [
    "f1_score_gini=f1_score(y_test,gini_prediction,pos_label = 'p')\n",
    "f1_score_entropy=f1_score(y_test,entropy_prediction,pos_label = 'p')\n",
    "\n",
    "print('Gini Index F1 Score: ',f1_score_gini)\n",
    "print('Entropy F1 Score: ',f1_score_entropy)"
   ]
  },
  {
   "cell_type": "markdown",
   "id": "a7e4cc08",
   "metadata": {},
   "source": [
    "## 8.3 Decision-Tree Classifier model using both gini index and entropy have only very very small difference in model accuracy and training set accuracy, so there is no sign of overfitting."
   ]
  },
  {
   "cell_type": "markdown",
   "id": "3b5e269d",
   "metadata": {},
   "source": [
    "## 9. Random Forest Classifier "
   ]
  },
  {
   "cell_type": "code",
   "execution_count": 66,
   "id": "59295333",
   "metadata": {},
   "outputs": [
    {
     "data": {
      "text/plain": [
       "RandomForestClassifier()"
      ]
     },
     "execution_count": 66,
     "metadata": {},
     "output_type": "execute_result"
    }
   ],
   "source": [
    "from sklearn.ensemble import RandomForestClassifier\n",
    "#Random Forest Classifier model with Train and Test split \n",
    "clf_base = RandomForestClassifier()\n",
    "\n",
    "#Training the model\n",
    "clf_base.fit(x_train,y_train)"
   ]
  },
  {
   "cell_type": "code",
   "execution_count": 67,
   "id": "30d86b63",
   "metadata": {},
   "outputs": [],
   "source": [
    "y_pred = clf_base.predict(x_test)"
   ]
  },
  {
   "cell_type": "code",
   "execution_count": 68,
   "id": "2f9c6671",
   "metadata": {},
   "outputs": [
    {
     "name": "stdout",
     "output_type": "stream",
     "text": [
      "RF model accuracy: 99.97846838441112\n"
     ]
    }
   ],
   "source": [
    "from sklearn import metrics\n",
    "# Random Forest  model accuracy\n",
    "print(\"RF model accuracy:\", metrics.accuracy_score(y_test, y_pred)*100)"
   ]
  },
  {
   "cell_type": "code",
   "execution_count": 75,
   "id": "16cad6ed",
   "metadata": {},
   "outputs": [
    {
     "name": "stdout",
     "output_type": "stream",
     "text": [
      "              precision    recall  f1-score   support\n",
      "\n",
      "           e       1.00      1.00      1.00      6083\n",
      "           p       1.00      1.00      1.00      7850\n",
      "\n",
      "    accuracy                           1.00     13933\n",
      "   macro avg       1.00      1.00      1.00     13933\n",
      "weighted avg       1.00      1.00      1.00     13933\n",
      "\n"
     ]
    }
   ],
   "source": [
    "# Random Forest  classification report\n",
    "print(metrics.classification_report(y_test, y_pred))"
   ]
  },
  {
   "cell_type": "markdown",
   "id": "49682b7b",
   "metadata": {},
   "source": [
    "# 10. Exploratory Data Analysis  of data_2"
   ]
  },
  {
   "cell_type": "code",
   "execution_count": 69,
   "id": "8ca15709",
   "metadata": {},
   "outputs": [
    {
     "data": {
      "text/html": [
       "<div>\n",
       "<style scoped>\n",
       "    .dataframe tbody tr th:only-of-type {\n",
       "        vertical-align: middle;\n",
       "    }\n",
       "\n",
       "    .dataframe tbody tr th {\n",
       "        vertical-align: top;\n",
       "    }\n",
       "\n",
       "    .dataframe thead th {\n",
       "        text-align: right;\n",
       "    }\n",
       "</style>\n",
       "<table border=\"1\" class=\"dataframe\">\n",
       "  <thead>\n",
       "    <tr style=\"text-align: right;\">\n",
       "      <th></th>\n",
       "      <th>family</th>\n",
       "      <th>name</th>\n",
       "      <th>class</th>\n",
       "      <th>cap-diameter</th>\n",
       "      <th>cap-shape</th>\n",
       "      <th>Cap-surface</th>\n",
       "      <th>cap-color</th>\n",
       "      <th>does-bruise-or-bleed</th>\n",
       "      <th>gill-attachment</th>\n",
       "      <th>gill-spacing</th>\n",
       "      <th>...</th>\n",
       "      <th>stem-root</th>\n",
       "      <th>stem-surface</th>\n",
       "      <th>stem-color</th>\n",
       "      <th>veil-type</th>\n",
       "      <th>veil-color</th>\n",
       "      <th>has-ring</th>\n",
       "      <th>ring-type</th>\n",
       "      <th>Spore-print-color</th>\n",
       "      <th>habitat</th>\n",
       "      <th>season</th>\n",
       "    </tr>\n",
       "  </thead>\n",
       "  <tbody>\n",
       "    <tr>\n",
       "      <th>0</th>\n",
       "      <td>Amanita Family</td>\n",
       "      <td>Fly Agaric</td>\n",
       "      <td>p</td>\n",
       "      <td>[10</td>\n",
       "      <td>NaN</td>\n",
       "      <td>NaN</td>\n",
       "      <td>NaN</td>\n",
       "      <td>NaN</td>\n",
       "      <td>NaN</td>\n",
       "      <td>NaN</td>\n",
       "      <td>...</td>\n",
       "      <td>NaN</td>\n",
       "      <td>NaN</td>\n",
       "      <td>NaN</td>\n",
       "      <td>NaN</td>\n",
       "      <td>NaN</td>\n",
       "      <td>NaN</td>\n",
       "      <td>NaN</td>\n",
       "      <td>NaN</td>\n",
       "      <td>NaN</td>\n",
       "      <td>NaN</td>\n",
       "    </tr>\n",
       "    <tr>\n",
       "      <th>1</th>\n",
       "      <td>Amanita Family</td>\n",
       "      <td>Panther Cap</td>\n",
       "      <td>p</td>\n",
       "      <td>[5</td>\n",
       "      <td>NaN</td>\n",
       "      <td>NaN</td>\n",
       "      <td>NaN</td>\n",
       "      <td>NaN</td>\n",
       "      <td>NaN</td>\n",
       "      <td>NaN</td>\n",
       "      <td>...</td>\n",
       "      <td>NaN</td>\n",
       "      <td>NaN</td>\n",
       "      <td>NaN</td>\n",
       "      <td>NaN</td>\n",
       "      <td>NaN</td>\n",
       "      <td>NaN</td>\n",
       "      <td>NaN</td>\n",
       "      <td>NaN</td>\n",
       "      <td>NaN</td>\n",
       "      <td>NaN</td>\n",
       "    </tr>\n",
       "    <tr>\n",
       "      <th>2</th>\n",
       "      <td>Amanita Family</td>\n",
       "      <td>False Panther Cap</td>\n",
       "      <td>p</td>\n",
       "      <td>[10</td>\n",
       "      <td>NaN</td>\n",
       "      <td>NaN</td>\n",
       "      <td>NaN</td>\n",
       "      <td>NaN</td>\n",
       "      <td>NaN</td>\n",
       "      <td>NaN</td>\n",
       "      <td>...</td>\n",
       "      <td>NaN</td>\n",
       "      <td>NaN</td>\n",
       "      <td>NaN</td>\n",
       "      <td>NaN</td>\n",
       "      <td>NaN</td>\n",
       "      <td>NaN</td>\n",
       "      <td>NaN</td>\n",
       "      <td>NaN</td>\n",
       "      <td>NaN</td>\n",
       "      <td>NaN</td>\n",
       "    </tr>\n",
       "    <tr>\n",
       "      <th>3</th>\n",
       "      <td>Amanita Family</td>\n",
       "      <td>The Blusher</td>\n",
       "      <td>e</td>\n",
       "      <td>[5</td>\n",
       "      <td>NaN</td>\n",
       "      <td>NaN</td>\n",
       "      <td>NaN</td>\n",
       "      <td>NaN</td>\n",
       "      <td>NaN</td>\n",
       "      <td>NaN</td>\n",
       "      <td>...</td>\n",
       "      <td>NaN</td>\n",
       "      <td>NaN</td>\n",
       "      <td>NaN</td>\n",
       "      <td>NaN</td>\n",
       "      <td>NaN</td>\n",
       "      <td>NaN</td>\n",
       "      <td>NaN</td>\n",
       "      <td>NaN</td>\n",
       "      <td>NaN</td>\n",
       "      <td>NaN</td>\n",
       "    </tr>\n",
       "    <tr>\n",
       "      <th>4</th>\n",
       "      <td>Amanita Family</td>\n",
       "      <td>Death Cap</td>\n",
       "      <td>p</td>\n",
       "      <td>[5</td>\n",
       "      <td>NaN</td>\n",
       "      <td>NaN</td>\n",
       "      <td>NaN</td>\n",
       "      <td>NaN</td>\n",
       "      <td>NaN</td>\n",
       "      <td>NaN</td>\n",
       "      <td>...</td>\n",
       "      <td>NaN</td>\n",
       "      <td>NaN</td>\n",
       "      <td>NaN</td>\n",
       "      <td>NaN</td>\n",
       "      <td>NaN</td>\n",
       "      <td>NaN</td>\n",
       "      <td>NaN</td>\n",
       "      <td>NaN</td>\n",
       "      <td>NaN</td>\n",
       "      <td>NaN</td>\n",
       "    </tr>\n",
       "  </tbody>\n",
       "</table>\n",
       "<p>5 rows × 23 columns</p>\n",
       "</div>"
      ],
      "text/plain": [
       "           family               name class cap-diameter cap-shape Cap-surface  \\\n",
       "0  Amanita Family         Fly Agaric     p          [10       NaN         NaN   \n",
       "1  Amanita Family        Panther Cap     p           [5       NaN         NaN   \n",
       "2  Amanita Family  False Panther Cap     p          [10       NaN         NaN   \n",
       "3  Amanita Family        The Blusher     e           [5       NaN         NaN   \n",
       "4  Amanita Family          Death Cap     p           [5       NaN         NaN   \n",
       "\n",
       "  cap-color does-bruise-or-bleed gill-attachment  gill-spacing  ... stem-root  \\\n",
       "0       NaN                  NaN             NaN           NaN  ...       NaN   \n",
       "1       NaN                  NaN             NaN           NaN  ...       NaN   \n",
       "2       NaN                  NaN             NaN           NaN  ...       NaN   \n",
       "3       NaN                  NaN             NaN           NaN  ...       NaN   \n",
       "4       NaN                  NaN             NaN           NaN  ...       NaN   \n",
       "\n",
       "  stem-surface  stem-color  veil-type  veil-color  has-ring  ring-type  \\\n",
       "0          NaN         NaN        NaN         NaN       NaN        NaN   \n",
       "1          NaN         NaN        NaN         NaN       NaN        NaN   \n",
       "2          NaN         NaN        NaN         NaN       NaN        NaN   \n",
       "3          NaN         NaN        NaN         NaN       NaN        NaN   \n",
       "4          NaN         NaN        NaN         NaN       NaN        NaN   \n",
       "\n",
       "   Spore-print-color  habitat  season  \n",
       "0                NaN      NaN     NaN  \n",
       "1                NaN      NaN     NaN  \n",
       "2                NaN      NaN     NaN  \n",
       "3                NaN      NaN     NaN  \n",
       "4                NaN      NaN     NaN  \n",
       "\n",
       "[5 rows x 23 columns]"
      ]
     },
     "execution_count": 69,
     "metadata": {},
     "output_type": "execute_result"
    }
   ],
   "source": [
    "data_2.head()"
   ]
  },
  {
   "cell_type": "code",
   "execution_count": 70,
   "id": "9a3d8b7b",
   "metadata": {},
   "outputs": [
    {
     "data": {
      "text/html": [
       "<div>\n",
       "<style scoped>\n",
       "    .dataframe tbody tr th:only-of-type {\n",
       "        vertical-align: middle;\n",
       "    }\n",
       "\n",
       "    .dataframe tbody tr th {\n",
       "        vertical-align: top;\n",
       "    }\n",
       "\n",
       "    .dataframe thead th {\n",
       "        text-align: right;\n",
       "    }\n",
       "</style>\n",
       "<table border=\"1\" class=\"dataframe\">\n",
       "  <thead>\n",
       "    <tr style=\"text-align: right;\">\n",
       "      <th></th>\n",
       "      <th>family</th>\n",
       "      <th>name</th>\n",
       "      <th>class</th>\n",
       "      <th>cap-diameter</th>\n",
       "      <th>cap-shape</th>\n",
       "      <th>Cap-surface</th>\n",
       "      <th>cap-color</th>\n",
       "      <th>does-bruise-or-bleed</th>\n",
       "      <th>gill-attachment</th>\n",
       "      <th>gill-spacing</th>\n",
       "      <th>...</th>\n",
       "      <th>stem-root</th>\n",
       "      <th>stem-surface</th>\n",
       "      <th>stem-color</th>\n",
       "      <th>veil-type</th>\n",
       "      <th>veil-color</th>\n",
       "      <th>has-ring</th>\n",
       "      <th>ring-type</th>\n",
       "      <th>Spore-print-color</th>\n",
       "      <th>habitat</th>\n",
       "      <th>season</th>\n",
       "    </tr>\n",
       "  </thead>\n",
       "  <tbody>\n",
       "    <tr>\n",
       "      <th>168</th>\n",
       "      <td>Saddle-Cup Family</td>\n",
       "      <td>White Saddle</td>\n",
       "      <td>p</td>\n",
       "      <td>[2</td>\n",
       "      <td>NaN</td>\n",
       "      <td>NaN</td>\n",
       "      <td>NaN</td>\n",
       "      <td>NaN</td>\n",
       "      <td>NaN</td>\n",
       "      <td>NaN</td>\n",
       "      <td>...</td>\n",
       "      <td>NaN</td>\n",
       "      <td>NaN</td>\n",
       "      <td>NaN</td>\n",
       "      <td>NaN</td>\n",
       "      <td>NaN</td>\n",
       "      <td>NaN</td>\n",
       "      <td>NaN</td>\n",
       "      <td>NaN</td>\n",
       "      <td>NaN</td>\n",
       "      <td>NaN</td>\n",
       "    </tr>\n",
       "    <tr>\n",
       "      <th>169</th>\n",
       "      <td>Bracket Fungi</td>\n",
       "      <td>Elfin's Saddle</td>\n",
       "      <td>p</td>\n",
       "      <td>[2</td>\n",
       "      <td>NaN</td>\n",
       "      <td>NaN</td>\n",
       "      <td>NaN</td>\n",
       "      <td>NaN</td>\n",
       "      <td>NaN</td>\n",
       "      <td>NaN</td>\n",
       "      <td>...</td>\n",
       "      <td>NaN</td>\n",
       "      <td>NaN</td>\n",
       "      <td>NaN</td>\n",
       "      <td>NaN</td>\n",
       "      <td>NaN</td>\n",
       "      <td>NaN</td>\n",
       "      <td>NaN</td>\n",
       "      <td>NaN</td>\n",
       "      <td>NaN</td>\n",
       "      <td>NaN</td>\n",
       "    </tr>\n",
       "    <tr>\n",
       "      <th>170</th>\n",
       "      <td>Bracket Fungi</td>\n",
       "      <td>Turban Fungus</td>\n",
       "      <td>p</td>\n",
       "      <td>[5</td>\n",
       "      <td>NaN</td>\n",
       "      <td>NaN</td>\n",
       "      <td>NaN</td>\n",
       "      <td>NaN</td>\n",
       "      <td>NaN</td>\n",
       "      <td>NaN</td>\n",
       "      <td>...</td>\n",
       "      <td>NaN</td>\n",
       "      <td>NaN</td>\n",
       "      <td>NaN</td>\n",
       "      <td>NaN</td>\n",
       "      <td>NaN</td>\n",
       "      <td>NaN</td>\n",
       "      <td>NaN</td>\n",
       "      <td>NaN</td>\n",
       "      <td>NaN</td>\n",
       "      <td>NaN</td>\n",
       "    </tr>\n",
       "    <tr>\n",
       "      <th>171</th>\n",
       "      <td>Morel Family</td>\n",
       "      <td>Common Morel</td>\n",
       "      <td>e</td>\n",
       "      <td>[3</td>\n",
       "      <td>NaN</td>\n",
       "      <td>NaN</td>\n",
       "      <td>NaN</td>\n",
       "      <td>NaN</td>\n",
       "      <td>NaN</td>\n",
       "      <td>NaN</td>\n",
       "      <td>...</td>\n",
       "      <td>NaN</td>\n",
       "      <td>NaN</td>\n",
       "      <td>NaN</td>\n",
       "      <td>NaN</td>\n",
       "      <td>NaN</td>\n",
       "      <td>NaN</td>\n",
       "      <td>NaN</td>\n",
       "      <td>NaN</td>\n",
       "      <td>NaN</td>\n",
       "      <td>NaN</td>\n",
       "    </tr>\n",
       "    <tr>\n",
       "      <th>172</th>\n",
       "      <td>Jelly Discs Family</td>\n",
       "      <td>Jelly Babies</td>\n",
       "      <td>p</td>\n",
       "      <td>[1</td>\n",
       "      <td>NaN</td>\n",
       "      <td>NaN</td>\n",
       "      <td>NaN</td>\n",
       "      <td>NaN</td>\n",
       "      <td>NaN</td>\n",
       "      <td>NaN</td>\n",
       "      <td>...</td>\n",
       "      <td>NaN</td>\n",
       "      <td>NaN</td>\n",
       "      <td>NaN</td>\n",
       "      <td>NaN</td>\n",
       "      <td>NaN</td>\n",
       "      <td>NaN</td>\n",
       "      <td>NaN</td>\n",
       "      <td>NaN</td>\n",
       "      <td>NaN</td>\n",
       "      <td>NaN</td>\n",
       "    </tr>\n",
       "  </tbody>\n",
       "</table>\n",
       "<p>5 rows × 23 columns</p>\n",
       "</div>"
      ],
      "text/plain": [
       "                 family            name class cap-diameter cap-shape  \\\n",
       "168   Saddle-Cup Family    White Saddle     p           [2       NaN   \n",
       "169       Bracket Fungi  Elfin's Saddle     p           [2       NaN   \n",
       "170       Bracket Fungi   Turban Fungus     p           [5       NaN   \n",
       "171        Morel Family    Common Morel     e           [3       NaN   \n",
       "172  Jelly Discs Family    Jelly Babies     p           [1       NaN   \n",
       "\n",
       "    Cap-surface cap-color does-bruise-or-bleed gill-attachment  gill-spacing  \\\n",
       "168         NaN       NaN                  NaN             NaN           NaN   \n",
       "169         NaN       NaN                  NaN             NaN           NaN   \n",
       "170         NaN       NaN                  NaN             NaN           NaN   \n",
       "171         NaN       NaN                  NaN             NaN           NaN   \n",
       "172         NaN       NaN                  NaN             NaN           NaN   \n",
       "\n",
       "     ... stem-root stem-surface  stem-color  veil-type  veil-color  has-ring  \\\n",
       "168  ...       NaN          NaN         NaN        NaN         NaN       NaN   \n",
       "169  ...       NaN          NaN         NaN        NaN         NaN       NaN   \n",
       "170  ...       NaN          NaN         NaN        NaN         NaN       NaN   \n",
       "171  ...       NaN          NaN         NaN        NaN         NaN       NaN   \n",
       "172  ...       NaN          NaN         NaN        NaN         NaN       NaN   \n",
       "\n",
       "     ring-type  Spore-print-color  habitat  season  \n",
       "168        NaN                NaN      NaN     NaN  \n",
       "169        NaN                NaN      NaN     NaN  \n",
       "170        NaN                NaN      NaN     NaN  \n",
       "171        NaN                NaN      NaN     NaN  \n",
       "172        NaN                NaN      NaN     NaN  \n",
       "\n",
       "[5 rows x 23 columns]"
      ]
     },
     "execution_count": 70,
     "metadata": {},
     "output_type": "execute_result"
    }
   ],
   "source": [
    "data_2.tail()"
   ]
  },
  {
   "cell_type": "code",
   "execution_count": 71,
   "id": "f5396c1a",
   "metadata": {},
   "outputs": [
    {
     "name": "stdout",
     "output_type": "stream",
     "text": [
      "<class 'pandas.core.frame.DataFrame'>\n",
      "RangeIndex: 173 entries, 0 to 172\n",
      "Data columns (total 23 columns):\n",
      " #   Column                Non-Null Count  Dtype  \n",
      "---  ------                --------------  -----  \n",
      " 0   family                173 non-null    object \n",
      " 1   name                  173 non-null    object \n",
      " 2   class                 173 non-null    object \n",
      " 3   cap-diameter          173 non-null    object \n",
      " 4   cap-shape             1 non-null      object \n",
      " 5   Cap-surface           1 non-null      object \n",
      " 6   cap-color             1 non-null      object \n",
      " 7   does-bruise-or-bleed  1 non-null      object \n",
      " 8   gill-attachment       1 non-null      object \n",
      " 9   gill-spacing          0 non-null      float64\n",
      " 10  gill-color            1 non-null      object \n",
      " 11  stem-height           1 non-null      object \n",
      " 12  stem-width            0 non-null      float64\n",
      " 13  stem-root             0 non-null      float64\n",
      " 14  stem-surface          0 non-null      float64\n",
      " 15  stem-color            0 non-null      float64\n",
      " 16  veil-type             0 non-null      float64\n",
      " 17  veil-color            0 non-null      float64\n",
      " 18  has-ring              0 non-null      float64\n",
      " 19  ring-type             0 non-null      float64\n",
      " 20  Spore-print-color     0 non-null      float64\n",
      " 21  habitat               0 non-null      float64\n",
      " 22  season                0 non-null      float64\n",
      "dtypes: float64(12), object(11)\n",
      "memory usage: 31.2+ KB\n"
     ]
    }
   ],
   "source": [
    "data_2.info()"
   ]
  },
  {
   "cell_type": "code",
   "execution_count": 72,
   "id": "cad546b5",
   "metadata": {},
   "outputs": [
    {
     "data": {
      "text/plain": [
       "Tricholoma Family         43\n",
       "Russula Family            27\n",
       "Bolete Family             14\n",
       "Ink Cap Family            13\n",
       "Cortinarius Family        11\n",
       "Stropharia Family          8\n",
       "Amanita Family             8\n",
       "Wax Gill Family            8\n",
       "Entoloma Family            7\n",
       "Bracket Fungi              7\n",
       "Mushroom Family            5\n",
       "Bolbitius Family           3\n",
       "Lepiota Family             3\n",
       "Paxillus Family            3\n",
       "Chanterelle Family         3\n",
       "Pluteus Family             2\n",
       "Oyster Mushroom Family     2\n",
       "Crepidotus Family          1\n",
       "Hydnum Family              1\n",
       "Ear-Pick Family            1\n",
       "Saddle-Cup Family          1\n",
       "Morel Family               1\n",
       "Jelly Discs Family         1\n",
       "Name: family, dtype: int64"
      ]
     },
     "execution_count": 72,
     "metadata": {},
     "output_type": "execute_result"
    }
   ],
   "source": [
    "data_2['family'].value_counts()"
   ]
  },
  {
   "cell_type": "code",
   "execution_count": 73,
   "id": "fc371b77",
   "metadata": {},
   "outputs": [
    {
     "name": "stdout",
     "output_type": "stream",
     "text": [
      "Name of each species:\n",
      " ['Fly Agaric', 'Panther Cap', 'False Panther Cap', 'The Blusher', 'Death Cap', 'False Death Cap', 'Destroying Angel', 'Tawny Grisette', 'Parasol Mushroom', 'Shaggy Parasol', 'Stinking Parasol', 'Saffron Parasol', 'The Deceiver', 'Amethyst Deceiver', 'Wood Blewit', 'Field Blewit', 'Clouded Agaric', 'Club-footed Funnel Cap', 'Common Funnel Cap', 'Aniseed Funnel Cap', 'Ivory Clitocybe', 'Wood Woolly-foot', 'Russet Tough Shank', 'Clustered Tough Shank', 'Greasy Tough Shank', 'Spotted Tough Shank', 'Fairy Ring Champignon', 'Little Wheel Fungus', 'Horse-hair Fungus', 'Bonnet Bell Cap', 'Stump Bell Cap', 'Tufted Bell Cap', 'Milky Bell Cap', 'Small Bleeding Bell Cap', 'Lilac Bell Cap', 'Yellow-stemmed Bell Cap', 'Orange Bell Cap', 'Orange Moss Agaric', 'Umbrella Navel Cap', 'Rooting Shank', 'Porcelain Mushroom', 'Velvet Shank', 'Honey Fungus', 'Bulbous Honey Fungus', 'Soap-scented Tricholoma', 'Grey Tricholoma', 'Scaly Tricholoma', 'Yellow-brown Tricholoma', 'Sulphur Tricholoma', \"St George's Mushroom\", 'Clustered Brown Cap', 'Changeable Melanoleuca', 'Plums and custard', 'Ivory Wax Cap', 'Yellow Wax cap', 'Orange-red Wax Cap', 'Blackening Wax Cap', 'Meadow Wax Cap', 'Scarlet Hood', 'Parrot Wax Cap', 'Herald of Winter', 'Common Yellow Russula', 'Yellow-gilled Russula', 'Yellow Swamp Russula', 'Geranium-scented Russula', 'Stinking Russula', 'Fragile Russula', 'Birch Russula', 'Bare-toothed Russula', 'The Charcoal Burner', 'Blackish Purple Russula', 'Blackening Russula', 'The Sickener', 'Beechwood Sickener', 'Crab-scented Russula', 'Grass-green Russula', 'Peppery Milk Cap', 'Fleecy Milk Cap', 'Oak Milk Cap', 'Slimy Milk Cap', 'Ugly Milk Cap', 'Rufous Milk Cap', 'Sweet Milk Cap', 'Small Brown Milk Cap', 'Coconut-scented Milk Cap', 'Woolly Milk Cap', 'Saffron Milk Cap', 'Spruce Milk Cap', 'Fawn Pluteus', 'Veined Pluteus', 'Silky Nolanea', 'Striated Nolanea', 'White Leptonia', 'Blue Leptonia', 'Livid Entoloma', 'The Miller', 'Apricot Fungus', 'Egg Yolk Fungus', 'Brown Bell Cap', 'Spring Agaric', 'Shaggy Pholiota', 'Charcoal Pholiota', 'Brown Stew Fungus', 'Sulphur Tuft', 'Brick Caps', 'Verdigris Toadstool', 'Dung Roundhead', 'Magic Mushroom', 'Red-banded Cortinarius', 'Purple Cortinarius', 'Blood-red Cortinarius', 'Red-staining Inocybe', 'Straw-coloured Inocybe', 'Common White Inocybe', 'Poison Pie', 'Dark-centred Hebeloma', 'Rusty Wood Rotter', 'Spectacular Gymnopile', 'Moss Pixy Cap', 'Field Mushroom', 'Cultivated Mushroom', 'Horse Mushroom', 'Yellow-staining Mushroom', 'Bleeding Brown Mushroom', 'Shaggy Ink Cap', 'Common Ink Cap', 'Magpie Ink Cap', 'Rusty Carpet Ink Cap', 'Glistening Ink Cap', \"Fairies' Bonnets\", 'Fairy Parasol', 'Common Crumble Cap', 'Two-toned Crumble Cap', 'Hay Cap', 'Petticoat Fungus', 'Egg-shell Toadstool', 'Weeping Widow', 'Cep', 'Bay Bolete', 'Red-cracked Bolete', 'Yellow-cracked Bolete', 'Dotted-stemmed Bolete', 'Lurid Bolete', 'Parasitic Bolete', 'Bitter Bolete', 'Peppery Bolete', 'Orange Birch Bolete', 'Brown Birch Bolete', 'Larch Bolete', 'Slippery Jack', 'Shallow-pored Bolete', 'Brown Roll-rim', 'Velvet Roll-rim', 'False Chanterelle', 'Chanterelle', 'Tubed Chanterelle', 'Horn of Plenty', 'Oyster Mushroom', 'Branched Oyster Mushroom', 'Olive-brown Panellus', 'Soft Slipper Toadstool', 'Hedgehog Fungus', 'Ear-pick Fungus', 'Hairy Stereum', 'Silver Leaf Fungus', \"Dryad's Saddle\", 'Fuzzy Polypore', 'Brown Goblet', 'White Saddle', \"Elfin's Saddle\", 'Turban Fungus', 'Common Morel', 'Jelly Babies']\n",
      "\n",
      "\n",
      "total number of species:  173\n"
     ]
    }
   ],
   "source": [
    "l=[]\n",
    "for i in data_2['name']:\n",
    "    l.append(i)\n",
    "    \n",
    "print('Name of each species:\\n',l)\n",
    "print('\\n\\ntotal number of species: ',data_2['name'].value_counts().sum())"
   ]
  },
  {
   "cell_type": "markdown",
   "id": "648d4b98",
   "metadata": {},
   "source": [
    " data_2 contains on 173 species.Mejority of data_2 columns is filled with null values, hence it is better to drop the data_2. data_1 alone is necessary for building the model"
   ]
  },
  {
   "cell_type": "code",
   "execution_count": null,
   "id": "732dac3b",
   "metadata": {},
   "outputs": [],
   "source": []
  },
  {
   "cell_type": "code",
   "execution_count": 76,
   "id": "5fd2e20a",
   "metadata": {},
   "outputs": [],
   "source": [
    "import seaborn as sns\n",
    "\n",
    "df=sns.load_dataset(\"titanic\")\n"
   ]
  },
  {
   "cell_type": "code",
   "execution_count": 77,
   "id": "7565120b",
   "metadata": {},
   "outputs": [
    {
     "data": {
      "text/html": [
       "<div>\n",
       "<style scoped>\n",
       "    .dataframe tbody tr th:only-of-type {\n",
       "        vertical-align: middle;\n",
       "    }\n",
       "\n",
       "    .dataframe tbody tr th {\n",
       "        vertical-align: top;\n",
       "    }\n",
       "\n",
       "    .dataframe thead th {\n",
       "        text-align: right;\n",
       "    }\n",
       "</style>\n",
       "<table border=\"1\" class=\"dataframe\">\n",
       "  <thead>\n",
       "    <tr style=\"text-align: right;\">\n",
       "      <th></th>\n",
       "      <th>survived</th>\n",
       "      <th>pclass</th>\n",
       "      <th>sex</th>\n",
       "      <th>age</th>\n",
       "      <th>sibsp</th>\n",
       "      <th>parch</th>\n",
       "      <th>fare</th>\n",
       "      <th>embarked</th>\n",
       "      <th>class</th>\n",
       "      <th>who</th>\n",
       "      <th>adult_male</th>\n",
       "      <th>deck</th>\n",
       "      <th>embark_town</th>\n",
       "      <th>alive</th>\n",
       "      <th>alone</th>\n",
       "    </tr>\n",
       "  </thead>\n",
       "  <tbody>\n",
       "    <tr>\n",
       "      <th>0</th>\n",
       "      <td>0</td>\n",
       "      <td>3</td>\n",
       "      <td>male</td>\n",
       "      <td>22.0</td>\n",
       "      <td>1</td>\n",
       "      <td>0</td>\n",
       "      <td>7.2500</td>\n",
       "      <td>S</td>\n",
       "      <td>Third</td>\n",
       "      <td>man</td>\n",
       "      <td>True</td>\n",
       "      <td>NaN</td>\n",
       "      <td>Southampton</td>\n",
       "      <td>no</td>\n",
       "      <td>False</td>\n",
       "    </tr>\n",
       "    <tr>\n",
       "      <th>1</th>\n",
       "      <td>1</td>\n",
       "      <td>1</td>\n",
       "      <td>female</td>\n",
       "      <td>38.0</td>\n",
       "      <td>1</td>\n",
       "      <td>0</td>\n",
       "      <td>71.2833</td>\n",
       "      <td>C</td>\n",
       "      <td>First</td>\n",
       "      <td>woman</td>\n",
       "      <td>False</td>\n",
       "      <td>C</td>\n",
       "      <td>Cherbourg</td>\n",
       "      <td>yes</td>\n",
       "      <td>False</td>\n",
       "    </tr>\n",
       "    <tr>\n",
       "      <th>2</th>\n",
       "      <td>1</td>\n",
       "      <td>3</td>\n",
       "      <td>female</td>\n",
       "      <td>26.0</td>\n",
       "      <td>0</td>\n",
       "      <td>0</td>\n",
       "      <td>7.9250</td>\n",
       "      <td>S</td>\n",
       "      <td>Third</td>\n",
       "      <td>woman</td>\n",
       "      <td>False</td>\n",
       "      <td>NaN</td>\n",
       "      <td>Southampton</td>\n",
       "      <td>yes</td>\n",
       "      <td>True</td>\n",
       "    </tr>\n",
       "    <tr>\n",
       "      <th>3</th>\n",
       "      <td>1</td>\n",
       "      <td>1</td>\n",
       "      <td>female</td>\n",
       "      <td>35.0</td>\n",
       "      <td>1</td>\n",
       "      <td>0</td>\n",
       "      <td>53.1000</td>\n",
       "      <td>S</td>\n",
       "      <td>First</td>\n",
       "      <td>woman</td>\n",
       "      <td>False</td>\n",
       "      <td>C</td>\n",
       "      <td>Southampton</td>\n",
       "      <td>yes</td>\n",
       "      <td>False</td>\n",
       "    </tr>\n",
       "    <tr>\n",
       "      <th>4</th>\n",
       "      <td>0</td>\n",
       "      <td>3</td>\n",
       "      <td>male</td>\n",
       "      <td>35.0</td>\n",
       "      <td>0</td>\n",
       "      <td>0</td>\n",
       "      <td>8.0500</td>\n",
       "      <td>S</td>\n",
       "      <td>Third</td>\n",
       "      <td>man</td>\n",
       "      <td>True</td>\n",
       "      <td>NaN</td>\n",
       "      <td>Southampton</td>\n",
       "      <td>no</td>\n",
       "      <td>True</td>\n",
       "    </tr>\n",
       "    <tr>\n",
       "      <th>...</th>\n",
       "      <td>...</td>\n",
       "      <td>...</td>\n",
       "      <td>...</td>\n",
       "      <td>...</td>\n",
       "      <td>...</td>\n",
       "      <td>...</td>\n",
       "      <td>...</td>\n",
       "      <td>...</td>\n",
       "      <td>...</td>\n",
       "      <td>...</td>\n",
       "      <td>...</td>\n",
       "      <td>...</td>\n",
       "      <td>...</td>\n",
       "      <td>...</td>\n",
       "      <td>...</td>\n",
       "    </tr>\n",
       "    <tr>\n",
       "      <th>886</th>\n",
       "      <td>0</td>\n",
       "      <td>2</td>\n",
       "      <td>male</td>\n",
       "      <td>27.0</td>\n",
       "      <td>0</td>\n",
       "      <td>0</td>\n",
       "      <td>13.0000</td>\n",
       "      <td>S</td>\n",
       "      <td>Second</td>\n",
       "      <td>man</td>\n",
       "      <td>True</td>\n",
       "      <td>NaN</td>\n",
       "      <td>Southampton</td>\n",
       "      <td>no</td>\n",
       "      <td>True</td>\n",
       "    </tr>\n",
       "    <tr>\n",
       "      <th>887</th>\n",
       "      <td>1</td>\n",
       "      <td>1</td>\n",
       "      <td>female</td>\n",
       "      <td>19.0</td>\n",
       "      <td>0</td>\n",
       "      <td>0</td>\n",
       "      <td>30.0000</td>\n",
       "      <td>S</td>\n",
       "      <td>First</td>\n",
       "      <td>woman</td>\n",
       "      <td>False</td>\n",
       "      <td>B</td>\n",
       "      <td>Southampton</td>\n",
       "      <td>yes</td>\n",
       "      <td>True</td>\n",
       "    </tr>\n",
       "    <tr>\n",
       "      <th>888</th>\n",
       "      <td>0</td>\n",
       "      <td>3</td>\n",
       "      <td>female</td>\n",
       "      <td>NaN</td>\n",
       "      <td>1</td>\n",
       "      <td>2</td>\n",
       "      <td>23.4500</td>\n",
       "      <td>S</td>\n",
       "      <td>Third</td>\n",
       "      <td>woman</td>\n",
       "      <td>False</td>\n",
       "      <td>NaN</td>\n",
       "      <td>Southampton</td>\n",
       "      <td>no</td>\n",
       "      <td>False</td>\n",
       "    </tr>\n",
       "    <tr>\n",
       "      <th>889</th>\n",
       "      <td>1</td>\n",
       "      <td>1</td>\n",
       "      <td>male</td>\n",
       "      <td>26.0</td>\n",
       "      <td>0</td>\n",
       "      <td>0</td>\n",
       "      <td>30.0000</td>\n",
       "      <td>C</td>\n",
       "      <td>First</td>\n",
       "      <td>man</td>\n",
       "      <td>True</td>\n",
       "      <td>C</td>\n",
       "      <td>Cherbourg</td>\n",
       "      <td>yes</td>\n",
       "      <td>True</td>\n",
       "    </tr>\n",
       "    <tr>\n",
       "      <th>890</th>\n",
       "      <td>0</td>\n",
       "      <td>3</td>\n",
       "      <td>male</td>\n",
       "      <td>32.0</td>\n",
       "      <td>0</td>\n",
       "      <td>0</td>\n",
       "      <td>7.7500</td>\n",
       "      <td>Q</td>\n",
       "      <td>Third</td>\n",
       "      <td>man</td>\n",
       "      <td>True</td>\n",
       "      <td>NaN</td>\n",
       "      <td>Queenstown</td>\n",
       "      <td>no</td>\n",
       "      <td>True</td>\n",
       "    </tr>\n",
       "  </tbody>\n",
       "</table>\n",
       "<p>891 rows × 15 columns</p>\n",
       "</div>"
      ],
      "text/plain": [
       "     survived  pclass     sex   age  sibsp  parch     fare embarked   class  \\\n",
       "0           0       3    male  22.0      1      0   7.2500        S   Third   \n",
       "1           1       1  female  38.0      1      0  71.2833        C   First   \n",
       "2           1       3  female  26.0      0      0   7.9250        S   Third   \n",
       "3           1       1  female  35.0      1      0  53.1000        S   First   \n",
       "4           0       3    male  35.0      0      0   8.0500        S   Third   \n",
       "..        ...     ...     ...   ...    ...    ...      ...      ...     ...   \n",
       "886         0       2    male  27.0      0      0  13.0000        S  Second   \n",
       "887         1       1  female  19.0      0      0  30.0000        S   First   \n",
       "888         0       3  female   NaN      1      2  23.4500        S   Third   \n",
       "889         1       1    male  26.0      0      0  30.0000        C   First   \n",
       "890         0       3    male  32.0      0      0   7.7500        Q   Third   \n",
       "\n",
       "       who  adult_male deck  embark_town alive  alone  \n",
       "0      man        True  NaN  Southampton    no  False  \n",
       "1    woman       False    C    Cherbourg   yes  False  \n",
       "2    woman       False  NaN  Southampton   yes   True  \n",
       "3    woman       False    C  Southampton   yes  False  \n",
       "4      man        True  NaN  Southampton    no   True  \n",
       "..     ...         ...  ...          ...   ...    ...  \n",
       "886    man        True  NaN  Southampton    no   True  \n",
       "887  woman       False    B  Southampton   yes   True  \n",
       "888  woman       False  NaN  Southampton    no  False  \n",
       "889    man        True    C    Cherbourg   yes   True  \n",
       "890    man        True  NaN   Queenstown    no   True  \n",
       "\n",
       "[891 rows x 15 columns]"
      ]
     },
     "execution_count": 77,
     "metadata": {},
     "output_type": "execute_result"
    }
   ],
   "source": [
    "df"
   ]
  },
  {
   "cell_type": "code",
   "execution_count": 86,
   "id": "9e08d126",
   "metadata": {},
   "outputs": [
    {
     "ename": "TypeError",
     "evalue": "'Index' object is not callable",
     "output_type": "error",
     "traceback": [
      "\u001b[1;31m---------------------------------------------------------------------------\u001b[0m",
      "\u001b[1;31mTypeError\u001b[0m                                 Traceback (most recent call last)",
      "Input \u001b[1;32mIn [86]\u001b[0m, in \u001b[0;36m<cell line: 9>\u001b[1;34m()\u001b[0m\n\u001b[0;32m      6\u001b[0m dff\u001b[38;5;241m=\u001b[39mpd\u001b[38;5;241m.\u001b[39mDataFrame(df)\n\u001b[0;32m      7\u001b[0m dff\u001b[38;5;241m.\u001b[39mhead()\n\u001b[1;32m----> 9\u001b[0m \u001b[43mdff\u001b[49m\u001b[38;5;241;43m.\u001b[39;49m\u001b[43mcolumns\u001b[49m\u001b[43m(\u001b[49m\u001b[38;5;124;43m\"\u001b[39;49m\u001b[38;5;124;43msurvived\u001b[39;49m\u001b[38;5;124;43m\"\u001b[39;49m\u001b[38;5;241;43m==\u001b[39;49m\u001b[38;5;241;43m1\u001b[39;49m\u001b[43m)\u001b[49m\n",
      "\u001b[1;31mTypeError\u001b[0m: 'Index' object is not callable"
     ]
    }
   ],
   "source": [
    "#df.where('survived'==1,axis=1)\n",
    "#df\n",
    "\n",
    "import pandas as pd\n",
    "\n",
    "dff=pd.DataFrame(df)\n",
    "dff.head()\n",
    "\n",
    "dff.columns(\"survived\"==1)\n",
    "\n"
   ]
  },
  {
   "cell_type": "code",
   "execution_count": null,
   "id": "bd07d5ab",
   "metadata": {},
   "outputs": [],
   "source": []
  },
  {
   "cell_type": "code",
   "execution_count": null,
   "id": "35825d57",
   "metadata": {},
   "outputs": [],
   "source": []
  }
 ],
 "metadata": {
  "kernelspec": {
   "display_name": "Python 3 (ipykernel)",
   "language": "python",
   "name": "python3"
  },
  "language_info": {
   "codemirror_mode": {
    "name": "ipython",
    "version": 3
   },
   "file_extension": ".py",
   "mimetype": "text/x-python",
   "name": "python",
   "nbconvert_exporter": "python",
   "pygments_lexer": "ipython3",
   "version": "3.9.12"
  }
 },
 "nbformat": 4,
 "nbformat_minor": 5
}
